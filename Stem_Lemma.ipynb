{
  "nbformat": 4,
  "nbformat_minor": 0,
  "metadata": {
    "colab": {
      "name": "Stem_Lemma.ipynb",
      "version": "0.3.2",
      "provenance": [],
      "collapsed_sections": [],
      "include_colab_link": true
    },
    "kernelspec": {
      "name": "python3",
      "display_name": "Python 3"
    }
  },
  "cells": [
    {
      "cell_type": "markdown",
      "metadata": {
        "id": "view-in-github",
        "colab_type": "text"
      },
      "source": [
        "<a href=\"https://colab.research.google.com/github/mukulsingh94868/ML-project/blob/supervisedML/Stem_Lemma.ipynb\" target=\"_parent\"><img src=\"https://colab.research.google.com/assets/colab-badge.svg\" alt=\"Open In Colab\"/></a>"
      ]
    },
    {
      "cell_type": "code",
      "metadata": {
        "id": "00-uJDKrdm3Z",
        "colab_type": "code",
        "colab": {}
      },
      "source": [
        "from nltk  import stem\n",
        "from nltk.stem   import PorterStemmer   # this is for stemmimg\n",
        "from nltk.stem   import WordNetLemmatizer   # lemma"
      ],
      "execution_count": 0,
      "outputs": []
    },
    {
      "cell_type": "code",
      "metadata": {
        "id": "1iZorycCduW-",
        "colab_type": "code",
        "colab": {
          "base_uri": "https://localhost:8080/",
          "height": 459
        },
        "outputId": "dd1ae578-8a58-436f-8f37-268ada938c0a"
      },
      "source": [
        "dir(stem)"
      ],
      "execution_count": 5,
      "outputs": [
        {
          "output_type": "execute_result",
          "data": {
            "text/plain": [
              "['ISRIStemmer',\n",
              " 'LancasterStemmer',\n",
              " 'PorterStemmer',\n",
              " 'RSLPStemmer',\n",
              " 'RegexpStemmer',\n",
              " 'SnowballStemmer',\n",
              " 'StemmerI',\n",
              " 'WordNetLemmatizer',\n",
              " '__builtins__',\n",
              " '__cached__',\n",
              " '__doc__',\n",
              " '__file__',\n",
              " '__loader__',\n",
              " '__name__',\n",
              " '__package__',\n",
              " '__path__',\n",
              " '__spec__',\n",
              " 'api',\n",
              " 'isri',\n",
              " 'lancaster',\n",
              " 'porter',\n",
              " 'regexp',\n",
              " 'rslp',\n",
              " 'snowball',\n",
              " 'util',\n",
              " 'wordnet']"
            ]
          },
          "metadata": {
            "tags": []
          },
          "execution_count": 5
        }
      ]
    },
    {
      "cell_type": "code",
      "metadata": {
        "id": "DH2t10RidwyN",
        "colab_type": "code",
        "colab": {}
      },
      "source": [
        "# stemming\n",
        "port=PorterStemmer()"
      ],
      "execution_count": 0,
      "outputs": []
    },
    {
      "cell_type": "code",
      "metadata": {
        "id": "kZKSd4ZIePPJ",
        "colab_type": "code",
        "colab": {
          "base_uri": "https://localhost:8080/",
          "height": 204
        },
        "outputId": "4bf7e44e-8cfc-44c3-ff55-5d0aa7ebccad"
      },
      "source": [
        "# word supply\n",
        "import time\n",
        "for i in ['going','goes','gone','go','intelligent','intelligence','intelligently','feet','foot','cars','car']:\n",
        " print(port.stem(i))\n",
        " time.sleep(1)"
      ],
      "execution_count": 16,
      "outputs": [
        {
          "output_type": "stream",
          "text": [
            "go\n",
            "goe\n",
            "gone\n",
            "go\n",
            "intellig\n",
            "intellig\n",
            "intellig\n",
            "feet\n",
            "foot\n",
            "car\n",
            "car\n"
          ],
          "name": "stdout"
        }
      ]
    },
    {
      "cell_type": "code",
      "metadata": {
        "id": "qRdfp6P9eVJw",
        "colab_type": "code",
        "colab": {}
      },
      "source": [
        ""
      ],
      "execution_count": 0,
      "outputs": []
    }
  ]
}