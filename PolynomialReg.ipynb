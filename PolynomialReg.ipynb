{
  "nbformat": 4,
  "nbformat_minor": 0,
  "metadata": {
    "colab": {
      "name": "PolynomialReg.ipynb",
      "version": "0.3.2",
      "provenance": [],
      "collapsed_sections": [],
      "include_colab_link": true
    },
    "kernelspec": {
      "name": "python3",
      "display_name": "Python 3"
    }
  },
  "cells": [
    {
      "cell_type": "markdown",
      "metadata": {
        "id": "view-in-github",
        "colab_type": "text"
      },
      "source": [
        "<a href=\"https://colab.research.google.com/github/mukulsingh94868/ML-project/blob/supervisedML/PolynomialReg.ipynb\" target=\"_parent\"><img src=\"https://colab.research.google.com/assets/colab-badge.svg\" alt=\"Open In Colab\"/></a>"
      ]
    },
    {
      "cell_type": "code",
      "metadata": {
        "id": "9V9J1IpbDq_9",
        "colab_type": "code",
        "colab": {}
      },
      "source": [
        "import pandas as pd\n",
        "import matplotlib.pyplot as plt"
      ],
      "execution_count": 0,
      "outputs": []
    },
    {
      "cell_type": "code",
      "metadata": {
        "id": "F5Ohi3SDD2BI",
        "colab_type": "code",
        "colab": {}
      },
      "source": [
        "# data loading\n",
        "df=pd.read_csv(\"http://13.234.66.67/summer19/datasets/salary.csv\")"
      ],
      "execution_count": 0,
      "outputs": []
    },
    {
      "cell_type": "code",
      "metadata": {
        "id": "LBRCqb6BD-2V",
        "colab_type": "code",
        "colab": {}
      },
      "source": [
        "#  experience \n",
        "exp=df.iloc[:,0:1].values"
      ],
      "execution_count": 0,
      "outputs": []
    },
    {
      "cell_type": "code",
      "metadata": {
        "id": "ee-Vu3WmEGZb",
        "colab_type": "code",
        "colab": {}
      },
      "source": [
        "# salary\n",
        "sal=df.iloc[:,1:].values\n"
      ],
      "execution_count": 0,
      "outputs": []
    },
    {
      "cell_type": "code",
      "metadata": {
        "id": "g1npmoFiEOwc",
        "colab_type": "code",
        "colab": {}
      },
      "source": [
        "# calling linear model just for compare\n",
        "from sklearn.linear_model   import LinearRegression\n",
        "regr1=LinearRegression()"
      ],
      "execution_count": 0,
      "outputs": []
    },
    {
      "cell_type": "code",
      "metadata": {
        "id": "H-9A1zNAEeSi",
        "colab_type": "code",
        "colab": {}
      },
      "source": [
        "# to transform data we can call poly transform method\n",
        "from sklearn.preprocessing  import PolynomialFeatures"
      ],
      "execution_count": 0,
      "outputs": []
    },
    {
      "cell_type": "code",
      "metadata": {
        "id": "gh_D8boFEzRf",
        "colab_type": "code",
        "colab": {}
      },
      "source": [
        "# experience transform\n",
        "poly=PolynomialFeatures(degree=2)"
      ],
      "execution_count": 0,
      "outputs": []
    },
    {
      "cell_type": "code",
      "metadata": {
        "id": "NCNE9LHvFVy_",
        "colab_type": "code",
        "colab": {}
      },
      "source": [
        "# exp fit \n",
        "newexp=poly.fit_transform(exp)"
      ],
      "execution_count": 0,
      "outputs": []
    },
    {
      "cell_type": "code",
      "metadata": {
        "id": "ldiDrwlyFfk7",
        "colab_type": "code",
        "colab": {
          "base_uri": "https://localhost:8080/",
          "height": 527
        },
        "outputId": "78d65ba0-b71a-4fd5-de76-7d8830853185"
      },
      "source": [
        "newexp"
      ],
      "execution_count": 10,
      "outputs": [
        {
          "output_type": "execute_result",
          "data": {
            "text/plain": [
              "array([[  1.  ,   1.1 ,   1.21],\n",
              "       [  1.  ,   1.3 ,   1.69],\n",
              "       [  1.  ,   1.5 ,   2.25],\n",
              "       [  1.  ,   2.  ,   4.  ],\n",
              "       [  1.  ,   2.2 ,   4.84],\n",
              "       [  1.  ,   2.9 ,   8.41],\n",
              "       [  1.  ,   3.  ,   9.  ],\n",
              "       [  1.  ,   3.2 ,  10.24],\n",
              "       [  1.  ,   3.2 ,  10.24],\n",
              "       [  1.  ,   3.7 ,  13.69],\n",
              "       [  1.  ,   3.9 ,  15.21],\n",
              "       [  1.  ,   4.  ,  16.  ],\n",
              "       [  1.  ,   4.  ,  16.  ],\n",
              "       [  1.  ,   4.1 ,  16.81],\n",
              "       [  1.  ,   4.5 ,  20.25],\n",
              "       [  1.  ,   4.9 ,  24.01],\n",
              "       [  1.  ,   5.1 ,  26.01],\n",
              "       [  1.  ,   5.3 ,  28.09],\n",
              "       [  1.  ,   5.9 ,  34.81],\n",
              "       [  1.  ,   6.  ,  36.  ],\n",
              "       [  1.  ,   6.8 ,  46.24],\n",
              "       [  1.  ,   7.1 ,  50.41],\n",
              "       [  1.  ,   7.9 ,  62.41],\n",
              "       [  1.  ,   8.2 ,  67.24],\n",
              "       [  1.  ,   8.7 ,  75.69],\n",
              "       [  1.  ,   9.  ,  81.  ],\n",
              "       [  1.  ,   9.5 ,  90.25],\n",
              "       [  1.  ,   9.6 ,  92.16],\n",
              "       [  1.  ,  10.3 , 106.09],\n",
              "       [  1.  ,  10.5 , 110.25]])"
            ]
          },
          "metadata": {
            "tags": []
          },
          "execution_count": 10
        }
      ]
    },
    {
      "cell_type": "code",
      "metadata": {
        "id": "O-p0bMm8Flik",
        "colab_type": "code",
        "colab": {}
      },
      "source": [
        "# apply linear regression\n",
        "trained1=regr1.fit(exp,sal)"
      ],
      "execution_count": 0,
      "outputs": []
    },
    {
      "cell_type": "code",
      "metadata": {
        "id": "UcqMyjGOF7Hu",
        "colab_type": "code",
        "colab": {
          "base_uri": "https://localhost:8080/",
          "height": 283
        },
        "outputId": "9dd093d6-96df-442e-9fcf-30f36215713b"
      },
      "source": [
        "# now creating linear model again\n",
        "plt.xlabel(\"exp\")\n",
        "plt.ylabel(\"sal\")\n",
        "plt.scatter(exp,sal,label=\"actual sal\")\n",
        "plt.plot(exp,trained1.predict(exp),label=\"linear model predict sal\")\n",
        "plt.legend()\n",
        "plt.show()"
      ],
      "execution_count": 18,
      "outputs": [
        {
          "output_type": "display_data",
          "data": {
            "image/png": "[encoded data removed]",
            "text/plain": [
              "<Figure size 432x288 with 1 Axes>"
            ]
          },
          "metadata": {
            "tags": []
          }
        }
      ]
    },
    {
      "cell_type": "code",
      "metadata": {
        "id": "5HtCMaP0F_4g",
        "colab_type": "code",
        "colab": {}
      },
      "source": [
        "# apply new exp data in model"
      ],
      "execution_count": 0,
      "outputs": []
    }
  ]
}