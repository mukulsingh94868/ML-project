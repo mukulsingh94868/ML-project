{
  "nbformat": 4,
  "nbformat_minor": 0,
  "metadata": {
    "colab": {
      "name": "DataEngineering.ipynb",
      "version": "0.3.2",
      "provenance": [],
      "collapsed_sections": [],
      "include_colab_link": true
    },
    "kernelspec": {
      "name": "python3",
      "display_name": "Python 3"
    }
  },
  "cells": [
    {
      "cell_type": "markdown",
      "metadata": {
        "id": "view-in-github",
        "colab_type": "text"
      },
      "source": [
        "<a href=\"https://colab.research.google.com/github/mukulsingh94868/ML-project/blob/supervisedML/DataEngineering(onehotencoder).ipynb\" target=\"_parent\"><img src=\"https://colab.research.google.com/assets/colab-badge.svg\" alt=\"Open In Colab\"/></a>"
      ]
    },
    {
      "cell_type": "code",
      "metadata": {
        "id": "UHooz409rxs2",
        "colab_type": "code",
        "colab": {}
      },
      "source": [
        "import pandas as pd\n"
      ],
      "execution_count": 0,
      "outputs": []
    },
    {
      "cell_type": "code",
      "metadata": {
        "id": "ojqTwEe1zd-C",
        "colab_type": "code",
        "colab": {}
      },
      "source": [
        "#reading csv file from url\n",
        "df=pd.read_csv('http://13.234.66.67/summer19/datasets/info.csv')"
      ],
      "execution_count": 0,
      "outputs": []
    },
    {
      "cell_type": "code",
      "metadata": {
        "id": "oH8xnbclztU_",
        "colab_type": "code",
        "colab": {
          "base_uri": "https://localhost:8080/",
          "height": 170
        },
        "outputId": "8f4f605a-8744-454b-be15-d7b980efa894"
      },
      "source": [
        "df.info()"
      ],
      "execution_count": 3,
      "outputs": [
        {
          "output_type": "stream",
          "text": [
            "<class 'pandas.core.frame.DataFrame'>\n",
            "RangeIndex: 10 entries, 0 to 9\n",
            "Data columns (total 4 columns):\n",
            "Country      10 non-null object\n",
            "Age          9 non-null float64\n",
            "Salary       9 non-null float64\n",
            "Purchased    10 non-null object\n",
            "dtypes: float64(2), object(2)\n",
            "memory usage: 400.0+ bytes\n"
          ],
          "name": "stdout"
        }
      ]
    },
    {
      "cell_type": "code",
      "metadata": {
        "id": "gawVfv0Xz41T",
        "colab_type": "code",
        "colab": {
          "base_uri": "https://localhost:8080/",
          "height": 359
        },
        "outputId": "4799c8c9-3eff-45f1-9185-17b093d62607"
      },
      "source": [
        "df"
      ],
      "execution_count": 4,
      "outputs": [
        {
          "output_type": "execute_result",
          "data": {
            "text/html": [
              "<div>\n",
              "<style scoped>\n",
              "    .dataframe tbody tr th:only-of-type {\n",
              "        vertical-align: middle;\n",
              "    }\n",
              "\n",
              "    .dataframe tbody tr th {\n",
              "        vertical-align: top;\n",
              "    }\n",
              "\n",
              "    .dataframe thead th {\n",
              "        text-align: right;\n",
              "    }\n",
              "</style>\n",
              "<table border=\"1\" class=\"dataframe\">\n",
              "  <thead>\n",
              "    <tr style=\"text-align: right;\">\n",
              "      <th></th>\n",
              "      <th>Country</th>\n",
              "      <th>Age</th>\n",
              "      <th>Salary</th>\n",
              "      <th>Purchased</th>\n",
              "    </tr>\n",
              "  </thead>\n",
              "  <tbody>\n",
              "    <tr>\n",
              "      <th>0</th>\n",
              "      <td>France</td>\n",
              "      <td>44.0</td>\n",
              "      <td>72000.0</td>\n",
              "      <td>No</td>\n",
              "    </tr>\n",
              "    <tr>\n",
              "      <th>1</th>\n",
              "      <td>Spain</td>\n",
              "      <td>27.0</td>\n",
              "      <td>48000.0</td>\n",
              "      <td>Yes</td>\n",
              "    </tr>\n",
              "    <tr>\n",
              "      <th>2</th>\n",
              "      <td>Germany</td>\n",
              "      <td>30.0</td>\n",
              "      <td>54000.0</td>\n",
              "      <td>No</td>\n",
              "    </tr>\n",
              "    <tr>\n",
              "      <th>3</th>\n",
              "      <td>Spain</td>\n",
              "      <td>38.0</td>\n",
              "      <td>61000.0</td>\n",
              "      <td>No</td>\n",
              "    </tr>\n",
              "    <tr>\n",
              "      <th>4</th>\n",
              "      <td>Germany</td>\n",
              "      <td>40.0</td>\n",
              "      <td>NaN</td>\n",
              "      <td>Yes</td>\n",
              "    </tr>\n",
              "    <tr>\n",
              "      <th>5</th>\n",
              "      <td>France</td>\n",
              "      <td>35.0</td>\n",
              "      <td>58000.0</td>\n",
              "      <td>Yes</td>\n",
              "    </tr>\n",
              "    <tr>\n",
              "      <th>6</th>\n",
              "      <td>Spain</td>\n",
              "      <td>NaN</td>\n",
              "      <td>52000.0</td>\n",
              "      <td>No</td>\n",
              "    </tr>\n",
              "    <tr>\n",
              "      <th>7</th>\n",
              "      <td>France</td>\n",
              "      <td>48.0</td>\n",
              "      <td>79000.0</td>\n",
              "      <td>Yes</td>\n",
              "    </tr>\n",
              "    <tr>\n",
              "      <th>8</th>\n",
              "      <td>Germany</td>\n",
              "      <td>50.0</td>\n",
              "      <td>83000.0</td>\n",
              "      <td>No</td>\n",
              "    </tr>\n",
              "    <tr>\n",
              "      <th>9</th>\n",
              "      <td>France</td>\n",
              "      <td>37.0</td>\n",
              "      <td>67000.0</td>\n",
              "      <td>Yes</td>\n",
              "    </tr>\n",
              "  </tbody>\n",
              "</table>\n",
              "</div>"
            ],
            "text/plain": [
              "   Country   Age   Salary Purchased\n",
              "0   France  44.0  72000.0        No\n",
              "1    Spain  27.0  48000.0       Yes\n",
              "2  Germany  30.0  54000.0        No\n",
              "3    Spain  38.0  61000.0        No\n",
              "4  Germany  40.0      NaN       Yes\n",
              "5   France  35.0  58000.0       Yes\n",
              "6    Spain   NaN  52000.0        No\n",
              "7   France  48.0  79000.0       Yes\n",
              "8  Germany  50.0  83000.0        No\n",
              "9   France  37.0  67000.0       Yes"
            ]
          },
          "metadata": {
            "tags": []
          },
          "execution_count": 4
        }
      ]
    },
    {
      "cell_type": "code",
      "metadata": {
        "id": "RhbqoY_O3FTi",
        "colab_type": "code",
        "colab": {
          "base_uri": "https://localhost:8080/",
          "height": 187
        },
        "outputId": "29346f44-eb8d-4adb-996f-70f86f13f2e0"
      },
      "source": [
        "# \n",
        "X=df.iloc[:,0:].values\n",
        "X"
      ],
      "execution_count": 5,
      "outputs": [
        {
          "output_type": "execute_result",
          "data": {
            "text/plain": [
              "array([['France', 44.0, 72000.0, 'No'],\n",
              "       ['Spain', 27.0, 48000.0, 'Yes'],\n",
              "       ['Germany', 30.0, 54000.0, 'No'],\n",
              "       ['Spain', 38.0, 61000.0, 'No'],\n",
              "       ['Germany', 40.0, nan, 'Yes'],\n",
              "       ['France', 35.0, 58000.0, 'Yes'],\n",
              "       ['Spain', nan, 52000.0, 'No'],\n",
              "       ['France', 48.0, 79000.0, 'Yes'],\n",
              "       ['Germany', 50.0, 83000.0, 'No'],\n",
              "       ['France', 37.0, 67000.0, 'Yes']], dtype=object)"
            ]
          },
          "metadata": {
            "tags": []
          },
          "execution_count": 5
        }
      ]
    },
    {
      "cell_type": "code",
      "metadata": {
        "id": "urQACG_o0FU2",
        "colab_type": "code",
        "colab": {}
      },
      "source": [
        "# remove missing values or replacing missing value with some relevent data\n",
        "# df.describe()\n",
        "from sklearn.preprocessing   import Imputer"
      ],
      "execution_count": 0,
      "outputs": []
    },
    {
      "cell_type": "code",
      "metadata": {
        "id": "8YU0m8CL07tj",
        "colab_type": "code",
        "colab": {
          "base_uri": "https://localhost:8080/",
          "height": 71
        },
        "outputId": "ef907a06-eac1-4f3f-9367-dc8c1321881c"
      },
      "source": [
        "imp=Imputer(missing_values='NaN',axis=0,strategy='mean')"
      ],
      "execution_count": 7,
      "outputs": [
        {
          "output_type": "stream",
          "text": [
            "/usr/local/lib/python3.6/dist-packages/sklearn/utils/deprecation.py:66: DeprecationWarning: Class Imputer is deprecated; Imputer was deprecated in version 0.20 and will be removed in 0.22. Import impute.SimpleImputer from sklearn instead.\n",
            "  warnings.warn(msg, category=DeprecationWarning)\n"
          ],
          "name": "stderr"
        }
      ]
    },
    {
      "cell_type": "code",
      "metadata": {
        "id": "7xExRvQY18Y1",
        "colab_type": "code",
        "colab": {}
      },
      "source": [
        "impute=imp.fit(X[:,1:3])  # this is only fitting of columns that we want to process"
      ],
      "execution_count": 0,
      "outputs": []
    },
    {
      "cell_type": "code",
      "metadata": {
        "id": "zipm2KSO4D6W",
        "colab_type": "code",
        "colab": {}
      },
      "source": [
        "# time for transforming the fitted cilumn\n",
        "X[:,1:3]=impute.transform(X[:,1:3])"
      ],
      "execution_count": 0,
      "outputs": []
    },
    {
      "cell_type": "code",
      "metadata": {
        "id": "XK_RBHcG4j4v",
        "colab_type": "code",
        "colab": {
          "base_uri": "https://localhost:8080/",
          "height": 187
        },
        "outputId": "7eeaa042-b8ec-4cb0-8281-187dd622e519"
      },
      "source": [
        "X"
      ],
      "execution_count": 10,
      "outputs": [
        {
          "output_type": "execute_result",
          "data": {
            "text/plain": [
              "array([['France', 44.0, 72000.0, 'No'],\n",
              "       ['Spain', 27.0, 48000.0, 'Yes'],\n",
              "       ['Germany', 30.0, 54000.0, 'No'],\n",
              "       ['Spain', 38.0, 61000.0, 'No'],\n",
              "       ['Germany', 40.0, 63777.77777777778, 'Yes'],\n",
              "       ['France', 35.0, 58000.0, 'Yes'],\n",
              "       ['Spain', 38.77777777777778, 52000.0, 'No'],\n",
              "       ['France', 48.0, 79000.0, 'Yes'],\n",
              "       ['Germany', 50.0, 83000.0, 'No'],\n",
              "       ['France', 37.0, 67000.0, 'Yes']], dtype=object)"
            ]
          },
          "metadata": {
            "tags": []
          },
          "execution_count": 10
        }
      ]
    },
    {
      "cell_type": "code",
      "metadata": {
        "id": "GY5rTNSq4u2a",
        "colab_type": "code",
        "colab": {}
      },
      "source": [
        "#  string label int  / float\n",
        "from sklearn.preprocessing  import LabelEncoder"
      ],
      "execution_count": 0,
      "outputs": []
    },
    {
      "cell_type": "code",
      "metadata": {
        "id": "TeZHZttN6zQc",
        "colab_type": "code",
        "colab": {}
      },
      "source": [
        "cont=LabelEncoder()  # this is country labelling"
      ],
      "execution_count": 0,
      "outputs": []
    },
    {
      "cell_type": "code",
      "metadata": {
        "id": "S4eaOrlG7Guc",
        "colab_type": "code",
        "colab": {}
      },
      "source": [
        "# now apply column first in this LabelEn\n",
        "X[:,0]=cont.fit_transform(X[:,0])"
      ],
      "execution_count": 0,
      "outputs": []
    },
    {
      "cell_type": "code",
      "metadata": {
        "id": "fark7tMy7ZAV",
        "colab_type": "code",
        "colab": {
          "base_uri": "https://localhost:8080/",
          "height": 187
        },
        "outputId": "634b988c-01f0-450e-a50a-17a9febdaee0"
      },
      "source": [
        "X"
      ],
      "execution_count": 14,
      "outputs": [
        {
          "output_type": "execute_result",
          "data": {
            "text/plain": [
              "array([[0, 44.0, 72000.0, 'No'],\n",
              "       [2, 27.0, 48000.0, 'Yes'],\n",
              "       [1, 30.0, 54000.0, 'No'],\n",
              "       [2, 38.0, 61000.0, 'No'],\n",
              "       [1, 40.0, 63777.77777777778, 'Yes'],\n",
              "       [0, 35.0, 58000.0, 'Yes'],\n",
              "       [2, 38.77777777777778, 52000.0, 'No'],\n",
              "       [0, 48.0, 79000.0, 'Yes'],\n",
              "       [1, 50.0, 83000.0, 'No'],\n",
              "       [0, 37.0, 67000.0, 'Yes']], dtype=object)"
            ]
          },
          "metadata": {
            "tags": []
          },
          "execution_count": 14
        }
      ]
    },
    {
      "cell_type": "code",
      "metadata": {
        "id": "F50Kits_7aHZ",
        "colab_type": "code",
        "colab": {}
      },
      "source": [
        "# labeling last column\n",
        "p=LabelEncoder()"
      ],
      "execution_count": 0,
      "outputs": []
    },
    {
      "cell_type": "code",
      "metadata": {
        "id": "Xb8-pR_17z7_",
        "colab_type": "code",
        "colab": {}
      },
      "source": [
        "X[:,3]=p.fit_transform(X[:,3])"
      ],
      "execution_count": 0,
      "outputs": []
    },
    {
      "cell_type": "code",
      "metadata": {
        "id": "kHd4KY3H8C2N",
        "colab_type": "code",
        "colab": {
          "base_uri": "https://localhost:8080/",
          "height": 187
        },
        "outputId": "109ca58f-3c51-4531-8e5b-5b74b95a0f58"
      },
      "source": [
        "X"
      ],
      "execution_count": 17,
      "outputs": [
        {
          "output_type": "execute_result",
          "data": {
            "text/plain": [
              "array([[0, 44.0, 72000.0, 0],\n",
              "       [2, 27.0, 48000.0, 1],\n",
              "       [1, 30.0, 54000.0, 0],\n",
              "       [2, 38.0, 61000.0, 0],\n",
              "       [1, 40.0, 63777.77777777778, 1],\n",
              "       [0, 35.0, 58000.0, 1],\n",
              "       [2, 38.77777777777778, 52000.0, 0],\n",
              "       [0, 48.0, 79000.0, 1],\n",
              "       [1, 50.0, 83000.0, 0],\n",
              "       [0, 37.0, 67000.0, 1]], dtype=object)"
            ]
          },
          "metadata": {
            "tags": []
          },
          "execution_count": 17
        }
      ]
    },
    {
      "cell_type": "code",
      "metadata": {
        "id": "s479tCqX8EYL",
        "colab_type": "code",
        "colab": {}
      },
      "source": [
        "# Now encoding forst column --- making sub column of first column\n",
        "from sklearn.preprocessing  import OneHotEncoder"
      ],
      "execution_count": 0,
      "outputs": []
    },
    {
      "cell_type": "code",
      "metadata": {
        "id": "jxhxPnHfCDWs",
        "colab_type": "code",
        "colab": {}
      },
      "source": [
        "firstcl=OneHotEncoder(categorical_features=[0])   # defining exact column number where we want to make category"
      ],
      "execution_count": 0,
      "outputs": []
    },
    {
      "cell_type": "code",
      "metadata": {
        "id": "Yc2Xx4PVCtTm",
        "colab_type": "code",
        "colab": {
          "base_uri": "https://localhost:8080/",
          "height": 139
        },
        "outputId": "1d4eb31d-4dd1-4233-a438-79a96512f130"
      },
      "source": [
        "X=firstcl.fit_transform(X).toarray()   # after transformation we need to convert into numpy array "
      ],
      "execution_count": 20,
      "outputs": [
        {
          "output_type": "stream",
          "text": [
            "/usr/local/lib/python3.6/dist-packages/sklearn/preprocessing/_encoders.py:415: FutureWarning: The handling of integer data will change in version 0.22. Currently, the categories are determined based on the range [0, max(values)], while in the future they will be determined based on the unique values.\n",
            "If you want the future behaviour and silence this warning, you can specify \"categories='auto'\".\n",
            "In case you used a LabelEncoder before this OneHotEncoder to convert the categories to integers, then you can now use the OneHotEncoder directly.\n",
            "  warnings.warn(msg, FutureWarning)\n",
            "/usr/local/lib/python3.6/dist-packages/sklearn/preprocessing/_encoders.py:451: DeprecationWarning: The 'categorical_features' keyword is deprecated in version 0.20 and will be removed in 0.22. You can use the ColumnTransformer instead.\n",
            "  \"use the ColumnTransformer instead.\", DeprecationWarning)\n"
          ],
          "name": "stderr"
        }
      ]
    },
    {
      "cell_type": "code",
      "metadata": {
        "id": "Y0yBnaIWC6Q5",
        "colab_type": "code",
        "colab": {
          "base_uri": "https://localhost:8080/",
          "height": 187
        },
        "outputId": "412adb11-0348-4f38-92a0-6b9fcfb04325"
      },
      "source": [
        "X.astype(int)   #  to show in int only"
      ],
      "execution_count": 22,
      "outputs": [
        {
          "output_type": "execute_result",
          "data": {
            "text/plain": [
              "array([[    1,     0,     0,    44, 72000,     0],\n",
              "       [    0,     0,     1,    27, 48000,     1],\n",
              "       [    0,     1,     0,    30, 54000,     0],\n",
              "       [    0,     0,     1,    38, 61000,     0],\n",
              "       [    0,     1,     0,    40, 63777,     1],\n",
              "       [    1,     0,     0,    35, 58000,     1],\n",
              "       [    0,     0,     1,    38, 52000,     0],\n",
              "       [    1,     0,     0,    48, 79000,     1],\n",
              "       [    0,     1,     0,    50, 83000,     0],\n",
              "       [    1,     0,     0,    37, 67000,     1]])"
            ]
          },
          "metadata": {
            "tags": []
          },
          "execution_count": 22
        }
      ]
    },
    {
      "cell_type": "code",
      "metadata": {
        "id": "xQ9nEKBsDAHd",
        "colab_type": "code",
        "colab": {}
      },
      "source": [
        ""
      ],
      "execution_count": 0,
      "outputs": []
    }
  ]
}