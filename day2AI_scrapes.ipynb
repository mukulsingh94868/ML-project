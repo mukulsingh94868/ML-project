{
  "nbformat": 4,
  "nbformat_minor": 0,
  "metadata": {
    "colab": {
      "name": "day2AI scrapes.ipynb",
      "provenance": [],
      "authorship_tag": "ABX9TyMDMVcAZc15Ra0B/sFedEHp",
      "include_colab_link": true
    },
    "kernelspec": {
      "name": "python3",
      "display_name": "Python 3"
    }
  },
  "cells": [
    {
      "cell_type": "markdown",
      "metadata": {
        "id": "view-in-github",
        "colab_type": "text"
      },
      "source": [
        "<a href=\"https://colab.research.google.com/github/mukulsingh94868/ML-project/blob/data_processing/day2AI_scrapes.ipynb\" target=\"_parent\"><img src=\"https://colab.research.google.com/assets/colab-badge.svg\" alt=\"Open In Colab\"/></a>"
      ]
    },
    {
      "cell_type": "code",
      "metadata": {
        "id": "_s0mBVdtH0Xu",
        "colab_type": "code",
        "colab": {}
      },
      "source": [
        "# importing modules\n",
        "from bs4 import BeautifulSoup\n",
        "import requests # replacement of urllib\n",
        "import time # to give some delay message "
      ],
      "execution_count": 0,
      "outputs": []
    },
    {
      "cell_type": "code",
      "metadata": {
        "id": "njWZIkkpY4K-",
        "colab_type": "code",
        "colab": {}
      },
      "source": [
        "# now taking live dataset\n",
        "url='https://www.worldometers.info/coronavirus/'\n",
        "# now connecting with https protocol\n",
        "htmlpage=requests.get(url)"
      ],
      "execution_count": 0,
      "outputs": []
    },
    {
      "cell_type": "code",
      "metadata": {
        "id": "8bNoLBTOZpxf",
        "colab_type": "code",
        "colab": {}
      },
      "source": [
        "# print info\n",
        "# print(htmlpage.text)"
      ],
      "execution_count": 0,
      "outputs": []
    },
    {
      "cell_type": "code",
      "metadata": {
        "id": "u87fklrhZzFY",
        "colab_type": "code",
        "colab": {}
      },
      "source": [
        "purehtmlpage=htmlpage.content\n",
        "soup=BeautifulSoup(purehtmlpage,'html5lib')   # souping"
      ],
      "execution_count": 0,
      "outputs": []
    },
    {
      "cell_type": "code",
      "metadata": {
        "id": "IrpNoT4_aCor",
        "colab_type": "code",
        "colab": {
          "base_uri": "https://localhost:8080/",
          "height": 34
        },
        "outputId": "c9777aaa-0eda-4ed6-d98c-4d05c330154d"
      },
      "source": [
        "print(type(soup))"
      ],
      "execution_count": 20,
      "outputs": [
        {
          "output_type": "stream",
          "text": [
            "<class 'bs4.BeautifulSoup'>\n"
          ],
          "name": "stdout"
        }
      ]
    },
    {
      "cell_type": "code",
      "metadata": {
        "id": "XuaT_I-vaj_Q",
        "colab_type": "code",
        "colab": {}
      },
      "source": [
        "tb=soup.find_all('table',class_=\"table table-bordered table-hover main_table_countries\")"
      ],
      "execution_count": 0,
      "outputs": []
    },
    {
      "cell_type": "code",
      "metadata": {
        "id": "GeDFgLEpcXu6",
        "colab_type": "code",
        "colab": {
          "base_uri": "https://localhost:8080/",
          "height": 187
        },
        "outputId": "10d9ba50-7555-4a34-b50c-15ce2e4a0be9"
      },
      "source": [
        "# finding all table rows\n",
        "for trr in tb[0].find_all('tr'):\n",
        "  for rows in trr.find_all('th'):\n",
        "    print(rows.text)"
      ],
      "execution_count": 22,
      "outputs": [
        {
          "output_type": "stream",
          "text": [
            "Country,Other\n",
            "TotalCases\n",
            "NewCases\n",
            "TotalDeaths\n",
            "NewDeaths\n",
            "TotalRecovered\n",
            "ActiveCases\n",
            "Serious,Critical\n",
            "Tot Cases/1M pop\n",
            "Tot Deaths/1M pop\n"
          ],
          "name": "stdout"
        }
      ]
    },
    {
      "cell_type": "code",
      "metadata": {
        "id": "zzOf2NApcbXI",
        "colab_type": "code",
        "colab": {
          "base_uri": "https://localhost:8080/",
          "height": 469
        },
        "outputId": "235f9df5-65c0-4f8e-9757-024be9b21138"
      },
      "source": [
        "# now craping data  for each roe with normal country data\n",
        "for trr1 in tb[0].find_all('tr'):\n",
        "  for rows in trr1.find_all('td'):\n",
        "    print(rows.text)\n",
        "    time.sleep(1)"
      ],
      "execution_count": 23,
      "outputs": [
        {
          "output_type": "stream",
          "text": [
            "China\n",
            "81,340\n",
            "+55\n",
            "3,292                                \n",
            "+5\n",
            "74,588\n",
            "3,460\n",
            "1,034\n",
            "57\n",
            "2\n",
            "USA\n",
            "85,612\n",
            "+177\n",
            "1,301                                \n",
            "+6\n",
            "1,868\n"
          ],
          "name": "stdout"
        },
        {
          "output_type": "error",
          "ename": "KeyboardInterrupt",
          "evalue": "ignored",
          "traceback": [
            "\u001b[0;31m---------------------------------------------------------------------------\u001b[0m",
            "\u001b[0;31mKeyboardInterrupt\u001b[0m                         Traceback (most recent call last)",
            "\u001b[0;32m<ipython-input-23-477ba8a7dae0>\u001b[0m in \u001b[0;36m<module>\u001b[0;34m()\u001b[0m\n\u001b[1;32m      2\u001b[0m   \u001b[0;32mfor\u001b[0m \u001b[0mrows\u001b[0m \u001b[0;32min\u001b[0m \u001b[0mtrr1\u001b[0m\u001b[0;34m.\u001b[0m\u001b[0mfind_all\u001b[0m\u001b[0;34m(\u001b[0m\u001b[0;34m'td'\u001b[0m\u001b[0;34m)\u001b[0m\u001b[0;34m:\u001b[0m\u001b[0;34m\u001b[0m\u001b[0;34m\u001b[0m\u001b[0m\n\u001b[1;32m      3\u001b[0m     \u001b[0mprint\u001b[0m\u001b[0;34m(\u001b[0m\u001b[0mrows\u001b[0m\u001b[0;34m.\u001b[0m\u001b[0mtext\u001b[0m\u001b[0;34m)\u001b[0m\u001b[0;34m\u001b[0m\u001b[0;34m\u001b[0m\u001b[0m\n\u001b[0;32m----> 4\u001b[0;31m     \u001b[0mtime\u001b[0m\u001b[0;34m.\u001b[0m\u001b[0msleep\u001b[0m\u001b[0;34m(\u001b[0m\u001b[0;36m1\u001b[0m\u001b[0;34m)\u001b[0m\u001b[0;34m\u001b[0m\u001b[0;34m\u001b[0m\u001b[0m\n\u001b[0m",
            "\u001b[0;31mKeyboardInterrupt\u001b[0m: "
          ]
        }
      ]
    },
    {
      "cell_type": "code",
      "metadata": {
        "id": "RRkcICCMeyPq",
        "colab_type": "code",
        "colab": {}
      },
      "source": [
        ""
      ],
      "execution_count": 0,
      "outputs": []
    }
  ]
}