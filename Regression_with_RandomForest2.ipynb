{
  "nbformat": 4,
  "nbformat_minor": 0,
  "metadata": {
    "colab": {
      "name": "Regression_with_RandomForest2.ipynb",
      "version": "0.3.2",
      "provenance": [],
      "collapsed_sections": [],
      "include_colab_link": true
    },
    "kernelspec": {
      "name": "python3",
      "display_name": "Python 3"
    }
  },
  "cells": [
    {
      "cell_type": "markdown",
      "metadata": {
        "id": "view-in-github",
        "colab_type": "text"
      },
      "source": [
        "<a href=\"https://colab.research.google.com/github/mukulsingh94868/ML-project/blob/supervisedML/Regression_with_RandomForest2.ipynb\" target=\"_parent\"><img src=\"https://colab.research.google.com/assets/colab-badge.svg\" alt=\"Open In Colab\"/></a>"
      ]
    },
    {
      "cell_type": "code",
      "metadata": {
        "id": "QKaran-06GOe",
        "colab_type": "code",
        "colab": {}
      },
      "source": [
        "import pandas as pd\n",
        "import matplotlib.pyplot as plt"
      ],
      "execution_count": 0,
      "outputs": []
    },
    {
      "cell_type": "code",
      "metadata": {
        "id": "ClIK799E6Qzc",
        "colab_type": "code",
        "colab": {}
      },
      "source": [
        "df=pd.read_csv(\"http://13.234.66.67/summer19/datasets/gender_submission.csv\")"
      ],
      "execution_count": 0,
      "outputs": []
    },
    {
      "cell_type": "code",
      "metadata": {
        "id": "-v4D3hFR6VML",
        "colab_type": "code",
        "colab": {
          "base_uri": "https://localhost:8080/",
          "height": 136
        },
        "outputId": "30e6b2d1-e75a-4dcc-f6e2-438e6be5f3cc"
      },
      "source": [
        "df.info()"
      ],
      "execution_count": 3,
      "outputs": [
        {
          "output_type": "stream",
          "text": [
            "<class 'pandas.core.frame.DataFrame'>\n",
            "RangeIndex: 418 entries, 0 to 417\n",
            "Data columns (total 2 columns):\n",
            "PassengerId    418 non-null int64\n",
            "Survived       418 non-null int64\n",
            "dtypes: int64(2)\n",
            "memory usage: 6.6 KB\n"
          ],
          "name": "stdout"
        }
      ]
    },
    {
      "cell_type": "code",
      "metadata": {
        "id": "y7kMq5Sr6XYE",
        "colab_type": "code",
        "colab": {
          "base_uri": "https://localhost:8080/",
          "height": 204
        },
        "outputId": "f33eb906-1612-4590-df90-123c2b112a99"
      },
      "source": [
        "df.head()"
      ],
      "execution_count": 4,
      "outputs": [
        {
          "output_type": "execute_result",
          "data": {
            "text/html": [
              "<div>\n",
              "<style scoped>\n",
              "    .dataframe tbody tr th:only-of-type {\n",
              "        vertical-align: middle;\n",
              "    }\n",
              "\n",
              "    .dataframe tbody tr th {\n",
              "        vertical-align: top;\n",
              "    }\n",
              "\n",
              "    .dataframe thead th {\n",
              "        text-align: right;\n",
              "    }\n",
              "</style>\n",
              "<table border=\"1\" class=\"dataframe\">\n",
              "  <thead>\n",
              "    <tr style=\"text-align: right;\">\n",
              "      <th></th>\n",
              "      <th>PassengerId</th>\n",
              "      <th>Survived</th>\n",
              "    </tr>\n",
              "  </thead>\n",
              "  <tbody>\n",
              "    <tr>\n",
              "      <th>0</th>\n",
              "      <td>892</td>\n",
              "      <td>0</td>\n",
              "    </tr>\n",
              "    <tr>\n",
              "      <th>1</th>\n",
              "      <td>893</td>\n",
              "      <td>1</td>\n",
              "    </tr>\n",
              "    <tr>\n",
              "      <th>2</th>\n",
              "      <td>894</td>\n",
              "      <td>0</td>\n",
              "    </tr>\n",
              "    <tr>\n",
              "      <th>3</th>\n",
              "      <td>895</td>\n",
              "      <td>0</td>\n",
              "    </tr>\n",
              "    <tr>\n",
              "      <th>4</th>\n",
              "      <td>896</td>\n",
              "      <td>1</td>\n",
              "    </tr>\n",
              "  </tbody>\n",
              "</table>\n",
              "</div>"
            ],
            "text/plain": [
              "   PassengerId  Survived\n",
              "0          892         0\n",
              "1          893         1\n",
              "2          894         0\n",
              "3          895         0\n",
              "4          896         1"
            ]
          },
          "metadata": {
            "tags": []
          },
          "execution_count": 4
        }
      ]
    },
    {
      "cell_type": "code",
      "metadata": {
        "id": "eoVdyF466Z3E",
        "colab_type": "code",
        "colab": {}
      },
      "source": [
        "# exp extract\n",
        "x=df.iloc[:,0:3].values"
      ],
      "execution_count": 0,
      "outputs": []
    },
    {
      "cell_type": "code",
      "metadata": {
        "id": "SmMS8Thw6sIs",
        "colab_type": "code",
        "colab": {
          "base_uri": "https://localhost:8080/",
          "height": 1000
        },
        "outputId": "bb1a607d-b479-473a-8956-52dc74f24fac"
      },
      "source": [
        "x"
      ],
      "execution_count": 6,
      "outputs": [
        {
          "output_type": "execute_result",
          "data": {
            "text/plain": [
              "array([[ 892,    0],\n",
              "       [ 893,    1],\n",
              "       [ 894,    0],\n",
              "       [ 895,    0],\n",
              "       [ 896,    1],\n",
              "       [ 897,    0],\n",
              "       [ 898,    1],\n",
              "       [ 899,    0],\n",
              "       [ 900,    1],\n",
              "       [ 901,    0],\n",
              "       [ 902,    0],\n",
              "       [ 903,    0],\n",
              "       [ 904,    1],\n",
              "       [ 905,    0],\n",
              "       [ 906,    1],\n",
              "       [ 907,    1],\n",
              "       [ 908,    0],\n",
              "       [ 909,    0],\n",
              "       [ 910,    1],\n",
              "       [ 911,    1],\n",
              "       [ 912,    0],\n",
              "       [ 913,    0],\n",
              "       [ 914,    1],\n",
              "       [ 915,    0],\n",
              "       [ 916,    1],\n",
              "       [ 917,    0],\n",
              "       [ 918,    1],\n",
              "       [ 919,    0],\n",
              "       [ 920,    0],\n",
              "       [ 921,    0],\n",
              "       [ 922,    0],\n",
              "       [ 923,    0],\n",
              "       [ 924,    1],\n",
              "       [ 925,    1],\n",
              "       [ 926,    0],\n",
              "       [ 927,    0],\n",
              "       [ 928,    1],\n",
              "       [ 929,    1],\n",
              "       [ 930,    0],\n",
              "       [ 931,    0],\n",
              "       [ 932,    0],\n",
              "       [ 933,    0],\n",
              "       [ 934,    0],\n",
              "       [ 935,    1],\n",
              "       [ 936,    1],\n",
              "       [ 937,    0],\n",
              "       [ 938,    0],\n",
              "       [ 939,    0],\n",
              "       [ 940,    1],\n",
              "       [ 941,    1],\n",
              "       [ 942,    0],\n",
              "       [ 943,    0],\n",
              "       [ 944,    1],\n",
              "       [ 945,    1],\n",
              "       [ 946,    0],\n",
              "       [ 947,    0],\n",
              "       [ 948,    0],\n",
              "       [ 949,    0],\n",
              "       [ 950,    0],\n",
              "       [ 951,    1],\n",
              "       [ 952,    0],\n",
              "       [ 953,    0],\n",
              "       [ 954,    0],\n",
              "       [ 955,    1],\n",
              "       [ 956,    0],\n",
              "       [ 957,    1],\n",
              "       [ 958,    1],\n",
              "       [ 959,    0],\n",
              "       [ 960,    0],\n",
              "       [ 961,    1],\n",
              "       [ 962,    1],\n",
              "       [ 963,    0],\n",
              "       [ 964,    1],\n",
              "       [ 965,    0],\n",
              "       [ 966,    1],\n",
              "       [ 967,    0],\n",
              "       [ 968,    0],\n",
              "       [ 969,    1],\n",
              "       [ 970,    0],\n",
              "       [ 971,    1],\n",
              "       [ 972,    0],\n",
              "       [ 973,    0],\n",
              "       [ 974,    0],\n",
              "       [ 975,    0],\n",
              "       [ 976,    0],\n",
              "       [ 977,    0],\n",
              "       [ 978,    1],\n",
              "       [ 979,    1],\n",
              "       [ 980,    1],\n",
              "       [ 981,    0],\n",
              "       [ 982,    1],\n",
              "       [ 983,    0],\n",
              "       [ 984,    1],\n",
              "       [ 985,    0],\n",
              "       [ 986,    0],\n",
              "       [ 987,    0],\n",
              "       [ 988,    1],\n",
              "       [ 989,    0],\n",
              "       [ 990,    1],\n",
              "       [ 991,    0],\n",
              "       [ 992,    1],\n",
              "       [ 993,    0],\n",
              "       [ 994,    0],\n",
              "       [ 995,    0],\n",
              "       [ 996,    1],\n",
              "       [ 997,    0],\n",
              "       [ 998,    0],\n",
              "       [ 999,    0],\n",
              "       [1000,    0],\n",
              "       [1001,    0],\n",
              "       [1002,    0],\n",
              "       [1003,    1],\n",
              "       [1004,    1],\n",
              "       [1005,    1],\n",
              "       [1006,    1],\n",
              "       [1007,    0],\n",
              "       [1008,    0],\n",
              "       [1009,    1],\n",
              "       [1010,    0],\n",
              "       [1011,    1],\n",
              "       [1012,    1],\n",
              "       [1013,    0],\n",
              "       [1014,    1],\n",
              "       [1015,    0],\n",
              "       [1016,    0],\n",
              "       [1017,    1],\n",
              "       [1018,    0],\n",
              "       [1019,    1],\n",
              "       [1020,    0],\n",
              "       [1021,    0],\n",
              "       [1022,    0],\n",
              "       [1023,    0],\n",
              "       [1024,    1],\n",
              "       [1025,    0],\n",
              "       [1026,    0],\n",
              "       [1027,    0],\n",
              "       [1028,    0],\n",
              "       [1029,    0],\n",
              "       [1030,    1],\n",
              "       [1031,    0],\n",
              "       [1032,    1],\n",
              "       [1033,    1],\n",
              "       [1034,    0],\n",
              "       [1035,    0],\n",
              "       [1036,    0],\n",
              "       [1037,    0],\n",
              "       [1038,    0],\n",
              "       [1039,    0],\n",
              "       [1040,    0],\n",
              "       [1041,    0],\n",
              "       [1042,    1],\n",
              "       [1043,    0],\n",
              "       [1044,    0],\n",
              "       [1045,    1],\n",
              "       [1046,    0],\n",
              "       [1047,    0],\n",
              "       [1048,    1],\n",
              "       [1049,    1],\n",
              "       [1050,    0],\n",
              "       [1051,    1],\n",
              "       [1052,    1],\n",
              "       [1053,    0],\n",
              "       [1054,    1],\n",
              "       [1055,    0],\n",
              "       [1056,    0],\n",
              "       [1057,    1],\n",
              "       [1058,    0],\n",
              "       [1059,    0],\n",
              "       [1060,    1],\n",
              "       [1061,    1],\n",
              "       [1062,    0],\n",
              "       [1063,    0],\n",
              "       [1064,    0],\n",
              "       [1065,    0],\n",
              "       [1066,    0],\n",
              "       [1067,    1],\n",
              "       [1068,    1],\n",
              "       [1069,    0],\n",
              "       [1070,    1],\n",
              "       [1071,    1],\n",
              "       [1072,    0],\n",
              "       [1073,    0],\n",
              "       [1074,    1],\n",
              "       [1075,    0],\n",
              "       [1076,    1],\n",
              "       [1077,    0],\n",
              "       [1078,    1],\n",
              "       [1079,    0],\n",
              "       [1080,    1],\n",
              "       [1081,    0],\n",
              "       [1082,    0],\n",
              "       [1083,    0],\n",
              "       [1084,    0],\n",
              "       [1085,    0],\n",
              "       [1086,    0],\n",
              "       [1087,    0],\n",
              "       [1088,    0],\n",
              "       [1089,    1],\n",
              "       [1090,    0],\n",
              "       [1091,    1],\n",
              "       [1092,    1],\n",
              "       [1093,    0],\n",
              "       [1094,    0],\n",
              "       [1095,    1],\n",
              "       [1096,    0],\n",
              "       [1097,    0],\n",
              "       [1098,    1],\n",
              "       [1099,    0],\n",
              "       [1100,    1],\n",
              "       [1101,    0],\n",
              "       [1102,    0],\n",
              "       [1103,    0],\n",
              "       [1104,    0],\n",
              "       [1105,    1],\n",
              "       [1106,    1],\n",
              "       [1107,    0],\n",
              "       [1108,    1],\n",
              "       [1109,    0],\n",
              "       [1110,    1],\n",
              "       [1111,    0],\n",
              "       [1112,    1],\n",
              "       [1113,    0],\n",
              "       [1114,    1],\n",
              "       [1115,    0],\n",
              "       [1116,    1],\n",
              "       [1117,    1],\n",
              "       [1118,    0],\n",
              "       [1119,    1],\n",
              "       [1120,    0],\n",
              "       [1121,    0],\n",
              "       [1122,    0],\n",
              "       [1123,    1],\n",
              "       [1124,    0],\n",
              "       [1125,    0],\n",
              "       [1126,    0],\n",
              "       [1127,    0],\n",
              "       [1128,    0],\n",
              "       [1129,    0],\n",
              "       [1130,    1],\n",
              "       [1131,    1],\n",
              "       [1132,    1],\n",
              "       [1133,    1],\n",
              "       [1134,    0],\n",
              "       [1135,    0],\n",
              "       [1136,    0],\n",
              "       [1137,    0],\n",
              "       [1138,    1],\n",
              "       [1139,    0],\n",
              "       [1140,    1],\n",
              "       [1141,    1],\n",
              "       [1142,    1],\n",
              "       [1143,    0],\n",
              "       [1144,    0],\n",
              "       [1145,    0],\n",
              "       [1146,    0],\n",
              "       [1147,    0],\n",
              "       [1148,    0],\n",
              "       [1149,    0],\n",
              "       [1150,    1],\n",
              "       [1151,    0],\n",
              "       [1152,    0],\n",
              "       [1153,    0],\n",
              "       [1154,    1],\n",
              "       [1155,    1],\n",
              "       [1156,    0],\n",
              "       [1157,    0],\n",
              "       [1158,    0],\n",
              "       [1159,    0],\n",
              "       [1160,    1],\n",
              "       [1161,    0],\n",
              "       [1162,    0],\n",
              "       [1163,    0],\n",
              "       [1164,    1],\n",
              "       [1165,    1],\n",
              "       [1166,    0],\n",
              "       [1167,    1],\n",
              "       [1168,    0],\n",
              "       [1169,    0],\n",
              "       [1170,    0],\n",
              "       [1171,    0],\n",
              "       [1172,    1],\n",
              "       [1173,    0],\n",
              "       [1174,    1],\n",
              "       [1175,    1],\n",
              "       [1176,    1],\n",
              "       [1177,    0],\n",
              "       [1178,    0],\n",
              "       [1179,    0],\n",
              "       [1180,    0],\n",
              "       [1181,    0],\n",
              "       [1182,    0],\n",
              "       [1183,    1],\n",
              "       [1184,    0],\n",
              "       [1185,    0],\n",
              "       [1186,    0],\n",
              "       [1187,    0],\n",
              "       [1188,    1],\n",
              "       [1189,    0],\n",
              "       [1190,    0],\n",
              "       [1191,    0],\n",
              "       [1192,    0],\n",
              "       [1193,    0],\n",
              "       [1194,    0],\n",
              "       [1195,    0],\n",
              "       [1196,    1],\n",
              "       [1197,    1],\n",
              "       [1198,    0],\n",
              "       [1199,    0],\n",
              "       [1200,    0],\n",
              "       [1201,    1],\n",
              "       [1202,    0],\n",
              "       [1203,    0],\n",
              "       [1204,    0],\n",
              "       [1205,    1],\n",
              "       [1206,    1],\n",
              "       [1207,    1],\n",
              "       [1208,    0],\n",
              "       [1209,    0],\n",
              "       [1210,    0],\n",
              "       [1211,    0],\n",
              "       [1212,    0],\n",
              "       [1213,    0],\n",
              "       [1214,    0],\n",
              "       [1215,    0],\n",
              "       [1216,    1],\n",
              "       [1217,    0],\n",
              "       [1218,    1],\n",
              "       [1219,    0],\n",
              "       [1220,    0],\n",
              "       [1221,    0],\n",
              "       [1222,    1],\n",
              "       [1223,    0],\n",
              "       [1224,    0],\n",
              "       [1225,    1],\n",
              "       [1226,    0],\n",
              "       [1227,    0],\n",
              "       [1228,    0],\n",
              "       [1229,    0],\n",
              "       [1230,    0],\n",
              "       [1231,    0],\n",
              "       [1232,    0],\n",
              "       [1233,    0],\n",
              "       [1234,    0],\n",
              "       [1235,    1],\n",
              "       [1236,    0],\n",
              "       [1237,    1],\n",
              "       [1238,    0],\n",
              "       [1239,    1],\n",
              "       [1240,    0],\n",
              "       [1241,    1],\n",
              "       [1242,    1],\n",
              "       [1243,    0],\n",
              "       [1244,    0],\n",
              "       [1245,    0],\n",
              "       [1246,    1],\n",
              "       [1247,    0],\n",
              "       [1248,    1],\n",
              "       [1249,    0],\n",
              "       [1250,    0],\n",
              "       [1251,    1],\n",
              "       [1252,    0],\n",
              "       [1253,    1],\n",
              "       [1254,    1],\n",
              "       [1255,    0],\n",
              "       [1256,    1],\n",
              "       [1257,    1],\n",
              "       [1258,    0],\n",
              "       [1259,    1],\n",
              "       [1260,    1],\n",
              "       [1261,    0],\n",
              "       [1262,    0],\n",
              "       [1263,    1],\n",
              "       [1264,    0],\n",
              "       [1265,    0],\n",
              "       [1266,    1],\n",
              "       [1267,    1],\n",
              "       [1268,    1],\n",
              "       [1269,    0],\n",
              "       [1270,    0],\n",
              "       [1271,    0],\n",
              "       [1272,    0],\n",
              "       [1273,    0],\n",
              "       [1274,    1],\n",
              "       [1275,    1],\n",
              "       [1276,    0],\n",
              "       [1277,    1],\n",
              "       [1278,    0],\n",
              "       [1279,    0],\n",
              "       [1280,    0],\n",
              "       [1281,    0],\n",
              "       [1282,    0],\n",
              "       [1283,    1],\n",
              "       [1284,    0],\n",
              "       [1285,    0],\n",
              "       [1286,    0],\n",
              "       [1287,    1],\n",
              "       [1288,    0],\n",
              "       [1289,    1],\n",
              "       [1290,    0],\n",
              "       [1291,    0],\n",
              "       [1292,    1],\n",
              "       [1293,    0],\n",
              "       [1294,    1],\n",
              "       [1295,    0],\n",
              "       [1296,    0],\n",
              "       [1297,    0],\n",
              "       [1298,    0],\n",
              "       [1299,    0],\n",
              "       [1300,    1],\n",
              "       [1301,    1],\n",
              "       [1302,    1],\n",
              "       [1303,    1],\n",
              "       [1304,    1],\n",
              "       [1305,    0],\n",
              "       [1306,    1],\n",
              "       [1307,    0],\n",
              "       [1308,    0],\n",
              "       [1309,    0]])"
            ]
          },
          "metadata": {
            "tags": []
          },
          "execution_count": 6
        }
      ]
    },
    {
      "cell_type": "code",
      "metadata": {
        "id": "zD_k6LCm6tNw",
        "colab_type": "code",
        "colab": {}
      },
      "source": [
        "# sal extract\n",
        "y=df.iloc[:,2:].values"
      ],
      "execution_count": 0,
      "outputs": []
    },
    {
      "cell_type": "code",
      "metadata": {
        "id": "z6Q4-fv069a7",
        "colab_type": "code",
        "colab": {
          "base_uri": "https://localhost:8080/",
          "height": 34
        },
        "outputId": "eda4012e-6fa9-4709-93c4-718418326d0d"
      },
      "source": [
        "y"
      ],
      "execution_count": 8,
      "outputs": [
        {
          "output_type": "execute_result",
          "data": {
            "text/plain": [
              "array([], shape=(418, 0), dtype=int64)"
            ]
          },
          "metadata": {
            "tags": []
          },
          "execution_count": 8
        }
      ]
    },
    {
      "cell_type": "code",
      "metadata": {
        "id": "HVlp-ein6-Xs",
        "colab_type": "code",
        "colab": {}
      },
      "source": [
        "# calling regression model of random forest\n",
        "from sklearn.ensemble  import RandomForestRegressor"
      ],
      "execution_count": 0,
      "outputs": []
    },
    {
      "cell_type": "code",
      "metadata": {
        "id": "YD9075ls7Qe5",
        "colab_type": "code",
        "colab": {}
      },
      "source": [
        "# calling regression\n",
        "regr=RandomForestRegressor()"
      ],
      "execution_count": 0,
      "outputs": []
    },
    {
      "cell_type": "code",
      "metadata": {
        "id": "Jsfdj0n37Yev",
        "colab_type": "code",
        "colab": {
          "base_uri": "https://localhost:8080/",
          "height": 326
        },
        "outputId": "ac3acff2-86e3-4324-8d7c-fdc2b0dfd04e"
      },
      "source": [
        "# training x and y\n",
        "trained =regr.fit(x,y)"
      ],
      "execution_count": 12,
      "outputs": [
        {
          "output_type": "error",
          "ename": "ValueError",
          "evalue": "ignored",
          "traceback": [
            "\u001b[0;31m---------------------------------------------------------------------------\u001b[0m",
            "\u001b[0;31mValueError\u001b[0m                                Traceback (most recent call last)",
            "\u001b[0;32m<ipython-input-12-898fbdbdbeac>\u001b[0m in \u001b[0;36m<module>\u001b[0;34m()\u001b[0m\n\u001b[0;32m----> 1\u001b[0;31m \u001b[0mtrained\u001b[0m \u001b[0;34m=\u001b[0m\u001b[0mregr\u001b[0m\u001b[0;34m.\u001b[0m\u001b[0mfit\u001b[0m\u001b[0;34m(\u001b[0m\u001b[0mx\u001b[0m\u001b[0;34m,\u001b[0m\u001b[0my\u001b[0m\u001b[0;34m)\u001b[0m\u001b[0;34m\u001b[0m\u001b[0;34m\u001b[0m\u001b[0m\n\u001b[0m",
            "\u001b[0;32m/usr/local/lib/python3.6/dist-packages/sklearn/ensemble/forest.py\u001b[0m in \u001b[0;36mfit\u001b[0;34m(self, X, y, sample_weight)\u001b[0m\n\u001b[1;32m    248\u001b[0m         \u001b[0;31m# Validate or convert input data\u001b[0m\u001b[0;34m\u001b[0m\u001b[0;34m\u001b[0m\u001b[0;34m\u001b[0m\u001b[0m\n\u001b[1;32m    249\u001b[0m         \u001b[0mX\u001b[0m \u001b[0;34m=\u001b[0m \u001b[0mcheck_array\u001b[0m\u001b[0;34m(\u001b[0m\u001b[0mX\u001b[0m\u001b[0;34m,\u001b[0m \u001b[0maccept_sparse\u001b[0m\u001b[0;34m=\u001b[0m\u001b[0;34m\"csc\"\u001b[0m\u001b[0;34m,\u001b[0m \u001b[0mdtype\u001b[0m\u001b[0;34m=\u001b[0m\u001b[0mDTYPE\u001b[0m\u001b[0;34m)\u001b[0m\u001b[0;34m\u001b[0m\u001b[0;34m\u001b[0m\u001b[0m\n\u001b[0;32m--> 250\u001b[0;31m         \u001b[0my\u001b[0m \u001b[0;34m=\u001b[0m \u001b[0mcheck_array\u001b[0m\u001b[0;34m(\u001b[0m\u001b[0my\u001b[0m\u001b[0;34m,\u001b[0m \u001b[0maccept_sparse\u001b[0m\u001b[0;34m=\u001b[0m\u001b[0;34m'csc'\u001b[0m\u001b[0;34m,\u001b[0m \u001b[0mensure_2d\u001b[0m\u001b[0;34m=\u001b[0m\u001b[0;32mFalse\u001b[0m\u001b[0;34m,\u001b[0m \u001b[0mdtype\u001b[0m\u001b[0;34m=\u001b[0m\u001b[0;32mNone\u001b[0m\u001b[0;34m)\u001b[0m\u001b[0;34m\u001b[0m\u001b[0;34m\u001b[0m\u001b[0m\n\u001b[0m\u001b[1;32m    251\u001b[0m         \u001b[0;32mif\u001b[0m \u001b[0msample_weight\u001b[0m \u001b[0;32mis\u001b[0m \u001b[0;32mnot\u001b[0m \u001b[0;32mNone\u001b[0m\u001b[0;34m:\u001b[0m\u001b[0;34m\u001b[0m\u001b[0;34m\u001b[0m\u001b[0m\n\u001b[1;32m    252\u001b[0m             \u001b[0msample_weight\u001b[0m \u001b[0;34m=\u001b[0m \u001b[0mcheck_array\u001b[0m\u001b[0;34m(\u001b[0m\u001b[0msample_weight\u001b[0m\u001b[0;34m,\u001b[0m \u001b[0mensure_2d\u001b[0m\u001b[0;34m=\u001b[0m\u001b[0;32mFalse\u001b[0m\u001b[0;34m)\u001b[0m\u001b[0;34m\u001b[0m\u001b[0;34m\u001b[0m\u001b[0m\n",
            "\u001b[0;32m/usr/local/lib/python3.6/dist-packages/sklearn/utils/validation.py\u001b[0m in \u001b[0;36mcheck_array\u001b[0;34m(array, accept_sparse, accept_large_sparse, dtype, order, copy, force_all_finite, ensure_2d, allow_nd, ensure_min_samples, ensure_min_features, warn_on_dtype, estimator)\u001b[0m\n\u001b[1;32m    556\u001b[0m                              \u001b[0;34m\" a minimum of %d is required%s.\"\u001b[0m\u001b[0;34m\u001b[0m\u001b[0;34m\u001b[0m\u001b[0m\n\u001b[1;32m    557\u001b[0m                              % (n_features, array.shape, ensure_min_features,\n\u001b[0;32m--> 558\u001b[0;31m                                 context))\n\u001b[0m\u001b[1;32m    559\u001b[0m \u001b[0;34m\u001b[0m\u001b[0m\n\u001b[1;32m    560\u001b[0m     \u001b[0;32mif\u001b[0m \u001b[0mwarn_on_dtype\u001b[0m \u001b[0;32mand\u001b[0m \u001b[0mdtype_orig\u001b[0m \u001b[0;32mis\u001b[0m \u001b[0;32mnot\u001b[0m \u001b[0;32mNone\u001b[0m \u001b[0;32mand\u001b[0m \u001b[0marray\u001b[0m\u001b[0;34m.\u001b[0m\u001b[0mdtype\u001b[0m \u001b[0;34m!=\u001b[0m \u001b[0mdtype_orig\u001b[0m\u001b[0;34m:\u001b[0m\u001b[0;34m\u001b[0m\u001b[0;34m\u001b[0m\u001b[0m\n",
            "\u001b[0;31mValueError\u001b[0m: Found array with 0 feature(s) (shape=(418, 0)) while a minimum of 1 is required."
          ]
        }
      ]
    },
    {
      "cell_type": "code",
      "metadata": {
        "id": "_qArc4PB7dVp",
        "colab_type": "code",
        "colab": {
          "base_uri": "https://localhost:8080/",
          "height": 643
        },
        "outputId": "6c712adb-4125-4b8a-be6c-dac47da7249e"
      },
      "source": [
        "plt.xlabel(\"experience\")\n",
        "plt.ylabel(\"salary\")\n",
        "plt.scatter(x,y,label=\"actual salary\")  # actual graph\n",
        "plt.show()"
      ],
      "execution_count": 13,
      "outputs": [
        {
          "output_type": "error",
          "ename": "ValueError",
          "evalue": "ignored",
          "traceback": [
            "\u001b[0;31m---------------------------------------------------------------------------\u001b[0m",
            "\u001b[0;31mValueError\u001b[0m                                Traceback (most recent call last)",
            "\u001b[0;32m<ipython-input-13-b0b25a0b7cc8>\u001b[0m in \u001b[0;36m<module>\u001b[0;34m()\u001b[0m\n\u001b[1;32m      1\u001b[0m \u001b[0mplt\u001b[0m\u001b[0;34m.\u001b[0m\u001b[0mxlabel\u001b[0m\u001b[0;34m(\u001b[0m\u001b[0;34m\"experience\"\u001b[0m\u001b[0;34m)\u001b[0m\u001b[0;34m\u001b[0m\u001b[0;34m\u001b[0m\u001b[0m\n\u001b[1;32m      2\u001b[0m \u001b[0mplt\u001b[0m\u001b[0;34m.\u001b[0m\u001b[0mylabel\u001b[0m\u001b[0;34m(\u001b[0m\u001b[0;34m\"salary\"\u001b[0m\u001b[0;34m)\u001b[0m\u001b[0;34m\u001b[0m\u001b[0;34m\u001b[0m\u001b[0m\n\u001b[0;32m----> 3\u001b[0;31m \u001b[0mplt\u001b[0m\u001b[0;34m.\u001b[0m\u001b[0mscatter\u001b[0m\u001b[0;34m(\u001b[0m\u001b[0mx\u001b[0m\u001b[0;34m,\u001b[0m\u001b[0my\u001b[0m\u001b[0;34m,\u001b[0m\u001b[0mlabel\u001b[0m\u001b[0;34m=\u001b[0m\u001b[0;34m\"actual salary\"\u001b[0m\u001b[0;34m)\u001b[0m  \u001b[0;31m# actual graph\u001b[0m\u001b[0;34m\u001b[0m\u001b[0;34m\u001b[0m\u001b[0m\n\u001b[0m\u001b[1;32m      4\u001b[0m \u001b[0mplt\u001b[0m\u001b[0;34m.\u001b[0m\u001b[0mshow\u001b[0m\u001b[0;34m(\u001b[0m\u001b[0;34m)\u001b[0m\u001b[0;34m\u001b[0m\u001b[0;34m\u001b[0m\u001b[0m\n",
            "\u001b[0;32m/usr/local/lib/python3.6/dist-packages/matplotlib/pyplot.py\u001b[0m in \u001b[0;36mscatter\u001b[0;34m(x, y, s, c, marker, cmap, norm, vmin, vmax, alpha, linewidths, verts, edgecolors, data, **kwargs)\u001b[0m\n\u001b[1;32m   2860\u001b[0m         \u001b[0mvmin\u001b[0m\u001b[0;34m=\u001b[0m\u001b[0mvmin\u001b[0m\u001b[0;34m,\u001b[0m \u001b[0mvmax\u001b[0m\u001b[0;34m=\u001b[0m\u001b[0mvmax\u001b[0m\u001b[0;34m,\u001b[0m \u001b[0malpha\u001b[0m\u001b[0;34m=\u001b[0m\u001b[0malpha\u001b[0m\u001b[0;34m,\u001b[0m \u001b[0mlinewidths\u001b[0m\u001b[0;34m=\u001b[0m\u001b[0mlinewidths\u001b[0m\u001b[0;34m,\u001b[0m\u001b[0;34m\u001b[0m\u001b[0;34m\u001b[0m\u001b[0m\n\u001b[1;32m   2861\u001b[0m         verts=verts, edgecolors=edgecolors, **({\"data\": data} if data\n\u001b[0;32m-> 2862\u001b[0;31m         is not None else {}), **kwargs)\n\u001b[0m\u001b[1;32m   2863\u001b[0m     \u001b[0msci\u001b[0m\u001b[0;34m(\u001b[0m\u001b[0m__ret\u001b[0m\u001b[0;34m)\u001b[0m\u001b[0;34m\u001b[0m\u001b[0;34m\u001b[0m\u001b[0m\n\u001b[1;32m   2864\u001b[0m     \u001b[0;32mreturn\u001b[0m \u001b[0m__ret\u001b[0m\u001b[0;34m\u001b[0m\u001b[0;34m\u001b[0m\u001b[0m\n",
            "\u001b[0;32m/usr/local/lib/python3.6/dist-packages/matplotlib/__init__.py\u001b[0m in \u001b[0;36minner\u001b[0;34m(ax, data, *args, **kwargs)\u001b[0m\n\u001b[1;32m   1808\u001b[0m                         \u001b[0;34m\"the Matplotlib list!)\"\u001b[0m \u001b[0;34m%\u001b[0m \u001b[0;34m(\u001b[0m\u001b[0mlabel_namer\u001b[0m\u001b[0;34m,\u001b[0m \u001b[0mfunc\u001b[0m\u001b[0;34m.\u001b[0m\u001b[0m__name__\u001b[0m\u001b[0;34m)\u001b[0m\u001b[0;34m,\u001b[0m\u001b[0;34m\u001b[0m\u001b[0;34m\u001b[0m\u001b[0m\n\u001b[1;32m   1809\u001b[0m                         RuntimeWarning, stacklevel=2)\n\u001b[0;32m-> 1810\u001b[0;31m             \u001b[0;32mreturn\u001b[0m \u001b[0mfunc\u001b[0m\u001b[0;34m(\u001b[0m\u001b[0max\u001b[0m\u001b[0;34m,\u001b[0m \u001b[0;34m*\u001b[0m\u001b[0margs\u001b[0m\u001b[0;34m,\u001b[0m \u001b[0;34m**\u001b[0m\u001b[0mkwargs\u001b[0m\u001b[0;34m)\u001b[0m\u001b[0;34m\u001b[0m\u001b[0;34m\u001b[0m\u001b[0m\n\u001b[0m\u001b[1;32m   1811\u001b[0m \u001b[0;34m\u001b[0m\u001b[0m\n\u001b[1;32m   1812\u001b[0m         inner.__doc__ = _add_data_doc(inner.__doc__,\n",
            "\u001b[0;32m/usr/local/lib/python3.6/dist-packages/matplotlib/axes/_axes.py\u001b[0m in \u001b[0;36mscatter\u001b[0;34m(self, x, y, s, c, marker, cmap, norm, vmin, vmax, alpha, linewidths, verts, edgecolors, **kwargs)\u001b[0m\n\u001b[1;32m   4180\u001b[0m         \u001b[0my\u001b[0m \u001b[0;34m=\u001b[0m \u001b[0mnp\u001b[0m\u001b[0;34m.\u001b[0m\u001b[0mma\u001b[0m\u001b[0;34m.\u001b[0m\u001b[0mravel\u001b[0m\u001b[0;34m(\u001b[0m\u001b[0my\u001b[0m\u001b[0;34m)\u001b[0m\u001b[0;34m\u001b[0m\u001b[0;34m\u001b[0m\u001b[0m\n\u001b[1;32m   4181\u001b[0m         \u001b[0;32mif\u001b[0m \u001b[0mx\u001b[0m\u001b[0;34m.\u001b[0m\u001b[0msize\u001b[0m \u001b[0;34m!=\u001b[0m \u001b[0my\u001b[0m\u001b[0;34m.\u001b[0m\u001b[0msize\u001b[0m\u001b[0;34m:\u001b[0m\u001b[0;34m\u001b[0m\u001b[0;34m\u001b[0m\u001b[0m\n\u001b[0;32m-> 4182\u001b[0;31m             \u001b[0;32mraise\u001b[0m \u001b[0mValueError\u001b[0m\u001b[0;34m(\u001b[0m\u001b[0;34m\"x and y must be the same size\"\u001b[0m\u001b[0;34m)\u001b[0m\u001b[0;34m\u001b[0m\u001b[0;34m\u001b[0m\u001b[0m\n\u001b[0m\u001b[1;32m   4183\u001b[0m \u001b[0;34m\u001b[0m\u001b[0m\n\u001b[1;32m   4184\u001b[0m         \u001b[0;32mif\u001b[0m \u001b[0ms\u001b[0m \u001b[0;32mis\u001b[0m \u001b[0;32mNone\u001b[0m\u001b[0;34m:\u001b[0m\u001b[0;34m\u001b[0m\u001b[0;34m\u001b[0m\u001b[0m\n",
            "\u001b[0;31mValueError\u001b[0m: x and y must be the same size"
          ]
        },
        {
          "output_type": "display_data",
          "data": {
            "image/png": "[encoded data removed]",
            "text/plain": [
              "<Figure size 432x288 with 1 Axes>"
            ]
          },
          "metadata": {
            "tags": []
          }
        }
      ]
    },
    {
      "cell_type": "code",
      "metadata": {
        "id": "IYPtZB6a8IkL",
        "colab_type": "code",
        "colab": {}
      },
      "source": [
        ""
      ],
      "execution_count": 0,
      "outputs": []
    }
  ]
}