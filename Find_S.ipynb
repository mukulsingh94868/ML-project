{
  "nbformat": 4,
  "nbformat_minor": 0,
  "metadata": {
    "colab": {
      "name": "Find-S.ipynb",
      "provenance": [],
      "toc_visible": true,
      "authorship_tag": "ABX9TyOXezq6zTknJ3yzh5V8svai",
      "include_colab_link": true
    },
    "kernelspec": {
      "name": "python3",
      "display_name": "Python 3"
    }
  },
  "cells": [
    {
      "cell_type": "markdown",
      "metadata": {
        "id": "view-in-github",
        "colab_type": "text"
      },
      "source": [
        "<a href=\"https://colab.research.google.com/github/mukulsingh94868/ML-project/blob/supervisedML/Find_S.ipynb\" target=\"_parent\"><img src=\"https://colab.research.google.com/assets/colab-badge.svg\" alt=\"Open In Colab\"/></a>"
      ]
    },
    {
      "cell_type": "code",
      "metadata": {
        "id": "HfMc6gq904Yy",
        "colab_type": "code",
        "colab": {
          "base_uri": "https://localhost:8080/",
          "height": 408
        },
        "outputId": "a400c105-7a7f-4bf2-eaec-66551187a5a1"
      },
      "source": [
        "\n",
        "import csv \n",
        "#!usr/bin/python #list creatin \n",
        "hypo=['%','%','%','%','%','%'] \n",
        "with open('Training_examples.csv') as csv_file:  \n",
        "    readcsv = csv.reader(csv_file, delimiter=',')  \n",
        "    print(readcsv)  \n",
        "    data=[]  \n",
        "    print(\"\\nThe given training examples are:\")  \n",
        "    for row in readcsv:     \n",
        "        print(row)  \n",
        "        if row[len(row)-1] =='Yes':    \n",
        "            data.append(row)    \n",
        "print(\"\\nThe positive examples are:\")\n",
        "for x in data:  \n",
        "    print(x) \n",
        "print(\"\\n\") \n",
        "TotalExamples=len(data) \n",
        "i=0 \n",
        "j=0\n",
        "k=0 \n",
        "print(\"The steps of the Find-s algorithm are\\n\",hypo) \n",
        "list =[]\n",
        "p=0\n",
        "d=len(data[p])-1\n",
        "for j in range(d):  \n",
        "    list.append(data[i][j])\n",
        "hypo=list\n",
        "for i in range(1,TotalExamples):   \n",
        "    for k in range(d): \n",
        "        if hypo[k]!=data[i][k]: \n",
        "            hypo[k]='?'\n",
        "        else:    \n",
        "            hypo[k] \n",
        "    print(hypo)\n",
        "    print(\"---------------------------------\")\n",
        "print(\"\\nThe maximally specific Find-s hypothesis for the given training examples is\");\n",
        "list=[]\n",
        "for i in range(d):  \n",
        "    list.append(hypo[i])\n",
        "print(list)  "
      ],
      "execution_count": 2,
      "outputs": [
        {
          "output_type": "stream",
          "text": [
            "<_csv.reader object at 0x7f24d88b6f98>\n",
            "\n",
            "The given training examples are:\n",
            "['Sunny', 'Warm', 'Normal', 'Strong', 'Warm', 'Same', 'Yes']\n",
            "['Sunny', 'Warm', 'High', 'Strong', 'Warm', 'Same', 'Yes']\n",
            "['Rainy', 'Cold', 'High', 'Strong', 'Warm', 'Change', 'No']\n",
            "['Sunny', 'Warm', 'High', 'Strong', 'Cool', 'Change', 'Yes']\n",
            "\n",
            "The positive examples are:\n",
            "['Sunny', 'Warm', 'Normal', 'Strong', 'Warm', 'Same', 'Yes']\n",
            "['Sunny', 'Warm', 'High', 'Strong', 'Warm', 'Same', 'Yes']\n",
            "['Sunny', 'Warm', 'High', 'Strong', 'Cool', 'Change', 'Yes']\n",
            "\n",
            "\n",
            "The steps of the Find-s algorithm are\n",
            " ['%', '%', '%', '%', '%', '%']\n",
            "['Sunny', 'Warm', '?', 'Strong', 'Warm', 'Same']\n",
            "---------------------------------\n",
            "['Sunny', 'Warm', '?', 'Strong', '?', '?']\n",
            "---------------------------------\n",
            "\n",
            "The maximally specific Find-s hypothesis for the given training examples is\n",
            "['Sunny', 'Warm', '?', 'Strong', '?', '?']\n"
          ],
          "name": "stdout"
        }
      ]
    },
    {
      "cell_type": "code",
      "metadata": {
        "id": "rwadGH611SrX",
        "colab_type": "code",
        "colab": {}
      },
      "source": [
        ""
      ],
      "execution_count": 0,
      "outputs": []
    }
  ]
}