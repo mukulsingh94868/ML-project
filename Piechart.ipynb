{
  "nbformat": 4,
  "nbformat_minor": 0,
  "metadata": {
    "colab": {
      "name": "Untitled2.ipynb",
      "version": "0.3.2",
      "provenance": [],
      "include_colab_link": true
    },
    "kernelspec": {
      "name": "python3",
      "display_name": "Python 3"
    }
  },
  "cells": [
    {
      "cell_type": "markdown",
      "metadata": {
        "id": "view-in-github",
        "colab_type": "text"
      },
      "source": [
        "<a href=\"https://colab.research.google.com/github/mukulsingh94868/ML-project/blob/master/Piechart.ipynb\" target=\"_parent\"><img src=\"https://colab.research.google.com/assets/colab-badge.svg\" alt=\"Open In Colab\"/></a>"
      ]
    },
    {
      "cell_type": "code",
      "metadata": {
        "id": "DU-6B5krIXNt",
        "colab_type": "code",
        "colab": {}
      },
      "source": [
        "import matplotlib.pyplot as plt\n",
        "from matplotlib import style\n",
        "import numpy as np\n",
        "style.use('ggplot')\n",
        "days=[1,2,3,4,5]"
      ],
      "execution_count": 0,
      "outputs": []
    },
    {
      "cell_type": "code",
      "metadata": {
        "id": "l7dSURDlIwWh",
        "colab_type": "code",
        "colab": {}
      },
      "source": [
        "sleep=[2,5,8,7,6]\n",
        "eat=[2,5,7,1,8]\n",
        "code=[5,8,12,9,1]\n",
        "play=[1,3,9,2,4]"
      ],
      "execution_count": 0,
      "outputs": []
    },
    {
      "cell_type": "code",
      "metadata": {
        "id": "5IgLKj-qI-tA",
        "colab_type": "code",
        "colab": {}
      },
      "source": [
        "slices=[3,5,9,4]\n",
        "activities=['sleep','eat','code','play']\n",
        "colors=['b','y','g','m']"
      ],
      "execution_count": 0,
      "outputs": []
    },
    {
      "cell_type": "code",
      "metadata": {
        "id": "MRZrHyVNJb83",
        "colab_type": "code",
        "colab": {
          "base_uri": "https://localhost:8080/",
          "height": 129
        },
        "outputId": "edabcca1-898b-4b23-9fe3-bf6736ece37a"
      },
      "source": [
        "plt.pie(slices.label=activities,colors=colors,startangle=90\n",
        "      explode=(0.1,0.3,0,0),autopct='%1.1f%%')\n",
        "#startangle is optional\n",
        "#shadow=true is also optional\n",
        "#explode=(0,0.1,0,0)\n",
        "plt.title(\"simple\")\n",
        "plt.xlabel(\"x-axis\")\n",
        "plt.ylabel(\"y-axix\")\n",
        "plt.legend()\n",
        "plt.grid(true,color='y')\n",
        "plt.show()"
      ],
      "execution_count": 8,
      "outputs": [
        {
          "output_type": "error",
          "ename": "SyntaxError",
          "evalue": "ignored",
          "traceback": [
            "\u001b[0;36m  File \u001b[0;32m\"<ipython-input-8-41628269d965>\"\u001b[0;36m, line \u001b[0;32m2\u001b[0m\n\u001b[0;31m    explode=(0.1,0.3,0,0),autopct='%1.1f%%')\u001b[0m\n\u001b[0m          ^\u001b[0m\n\u001b[0;31mSyntaxError\u001b[0m\u001b[0;31m:\u001b[0m invalid syntax\n"
          ]
        }
      ]
    },
    {
      "cell_type": "code",
      "metadata": {
        "id": "Q0p9KpGWKfNJ",
        "colab_type": "code",
        "colab": {}
      },
      "source": [
        ""
      ],
      "execution_count": 0,
      "outputs": []
    }
  ]
}