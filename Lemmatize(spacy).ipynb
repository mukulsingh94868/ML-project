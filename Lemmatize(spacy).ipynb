{
  "nbformat": 4,
  "nbformat_minor": 0,
  "metadata": {
    "colab": {
      "name": "Lemmatize(spacy).ipynb",
      "version": "0.3.2",
      "provenance": [],
      "collapsed_sections": [],
      "include_colab_link": true
    },
    "kernelspec": {
      "name": "python3",
      "display_name": "Python 3"
    }
  },
  "cells": [
    {
      "cell_type": "markdown",
      "metadata": {
        "id": "view-in-github",
        "colab_type": "text"
      },
      "source": [
        "<a href=\"https://colab.research.google.com/github/mukulsingh94868/ML-project/blob/supervisedML/Lemmatize(spacy).ipynb\" target=\"_parent\"><img src=\"https://colab.research.google.com/assets/colab-badge.svg\" alt=\"Open In Colab\"/></a>"
      ]
    },
    {
      "cell_type": "code",
      "metadata": {
        "id": "O5qOs1bTed_X",
        "colab_type": "code",
        "colab": {}
      },
      "source": [
        "import spacy\n",
        "import nltk"
      ],
      "execution_count": 0,
      "outputs": []
    },
    {
      "cell_type": "code",
      "metadata": {
        "id": "-0UDLSIhemIt",
        "colab_type": "code",
        "colab": {}
      },
      "source": [
        "# language en--\n",
        "nlp=spacy.load('en')"
      ],
      "execution_count": 0,
      "outputs": []
    },
    {
      "cell_type": "code",
      "metadata": {
        "id": "Dli-n2b9evD7",
        "colab_type": "code",
        "colab": {
          "base_uri": "https://localhost:8080/",
          "height": 34
        },
        "outputId": "f6cfa466-d838-4f44-ff38-b9a2ae69edfa"
      },
      "source": [
        "nlp"
      ],
      "execution_count": 7,
      "outputs": [
        {
          "output_type": "execute_result",
          "data": {
            "text/plain": [
              "<spacy.lang.en.English at 0x7f87c88d8be0>"
            ]
          },
          "metadata": {
            "tags": []
          },
          "execution_count": 7
        }
      ]
    },
    {
      "cell_type": "code",
      "metadata": {
        "id": "sgrrnpJye9rZ",
        "colab_type": "code",
        "colab": {}
      },
      "source": [
        "data=\"hello world i am going outside for playing cricket my\""
      ],
      "execution_count": 0,
      "outputs": []
    },
    {
      "cell_type": "code",
      "metadata": {
        "id": "9PHwoQJ9fOkq",
        "colab_type": "code",
        "colab": {}
      },
      "source": [
        "new_data=nlp(data)     # automatic tokenize"
      ],
      "execution_count": 0,
      "outputs": []
    },
    {
      "cell_type": "code",
      "metadata": {
        "id": "3GFn2FJVfQgC",
        "colab_type": "code",
        "colab": {
          "base_uri": "https://localhost:8080/",
          "height": 527
        },
        "outputId": "f3196549-43d1-4d31-929c-9628aa33a599"
      },
      "source": [
        "for i in new_data:\n",
        "  print(i,\"lemmatization of word is ---->\",i.lemma_)\n",
        "  print(\"##########################\")\n",
        "  print(i,\"POS\",i.pos_)"
      ],
      "execution_count": 19,
      "outputs": [
        {
          "output_type": "stream",
          "text": [
            "hello lemmatization of word is ----> hello\n",
            "##########################\n",
            "hello POS INTJ\n",
            "world lemmatization of word is ----> world\n",
            "##########################\n",
            "world POS NOUN\n",
            "i lemmatization of word is ----> i\n",
            "##########################\n",
            "i POS PRON\n",
            "am lemmatization of word is ----> be\n",
            "##########################\n",
            "am POS VERB\n",
            "going lemmatization of word is ----> go\n",
            "##########################\n",
            "going POS VERB\n",
            "outside lemmatization of word is ----> outside\n",
            "##########################\n",
            "outside POS ADV\n",
            "for lemmatization of word is ----> for\n",
            "##########################\n",
            "for POS ADP\n",
            "playing lemmatization of word is ----> play\n",
            "##########################\n",
            "playing POS VERB\n",
            "cricket lemmatization of word is ----> cricket\n",
            "##########################\n",
            "cricket POS NOUN\n",
            "my lemmatization of word is ----> -PRON-\n",
            "##########################\n",
            "my POS DET\n"
          ],
          "name": "stdout"
        }
      ]
    },
    {
      "cell_type": "code",
      "metadata": {
        "id": "OOhDp49yfX4t",
        "colab_type": "code",
        "colab": {}
      },
      "source": [
        ""
      ],
      "execution_count": 0,
      "outputs": []
    }
  ]
}