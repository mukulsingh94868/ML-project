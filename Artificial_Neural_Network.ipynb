{
  "nbformat": 4,
  "nbformat_minor": 0,
  "metadata": {
    "colab": {
      "name": "Artificial_Neural_Network.ipynb",
      "version": "0.3.2",
      "provenance": [],
      "collapsed_sections": [],
      "include_colab_link": true
    },
    "kernelspec": {
      "name": "python3",
      "display_name": "Python 3"
    }
  },
  "cells": [
    {
      "cell_type": "markdown",
      "metadata": {
        "id": "view-in-github",
        "colab_type": "text"
      },
      "source": [
        "<a href=\"https://colab.research.google.com/github/mukulsingh94868/ML-project/blob/supervisedML/Artificial_Neural_Network.ipynb\" target=\"_parent\"><img src=\"https://colab.research.google.com/assets/colab-badge.svg\" alt=\"Open In Colab\"/></a>"
      ]
    },
    {
      "cell_type": "code",
      "metadata": {
        "id": "PcE7xacH0Y07",
        "colab_type": "code",
        "colab": {}
      },
      "source": [
        "import pandas as pd"
      ],
      "execution_count": 0,
      "outputs": []
    },
    {
      "cell_type": "code",
      "metadata": {
        "id": "uyEfWs9T6ILU",
        "colab_type": "code",
        "colab": {}
      },
      "source": [
        "# loading \n",
        "df=pd.read_csv(\"http://13.234.66.67/summer19/datasets/bank.csv\")"
      ],
      "execution_count": 0,
      "outputs": []
    },
    {
      "cell_type": "code",
      "metadata": {
        "id": "70ZzAB2C6PAJ",
        "colab_type": "code",
        "colab": {
          "base_uri": "https://localhost:8080/",
          "height": 1000
        },
        "outputId": "504584ab-1ac7-4c4c-afe3-ee812ed5a423"
      },
      "source": [
        "# schema\n",
        "df.info"
      ],
      "execution_count": 3,
      "outputs": [
        {
          "output_type": "execute_result",
          "data": {
            "text/plain": [
              "<bound method DataFrame.info of       RowNumber  CustomerId  ... EstimatedSalary  Exited\n",
              "0             1    15634602  ...       101348.88       1\n",
              "1             2    15647311  ...       112542.58       0\n",
              "2             3    15619304  ...       113931.57       1\n",
              "3             4    15701354  ...        93826.63       0\n",
              "4             5    15737888  ...        79084.10       0\n",
              "5             6    15574012  ...       149756.71       1\n",
              "6             7    15592531  ...        10062.80       0\n",
              "7             8    15656148  ...       119346.88       1\n",
              "8             9    15792365  ...        74940.50       0\n",
              "9            10    15592389  ...        71725.73       0\n",
              "10           11    15767821  ...        80181.12       0\n",
              "11           12    15737173  ...        76390.01       0\n",
              "12           13    15632264  ...        26260.98       0\n",
              "13           14    15691483  ...       190857.79       0\n",
              "14           15    15600882  ...        65951.65       0\n",
              "15           16    15643966  ...        64327.26       0\n",
              "16           17    15737452  ...         5097.67       1\n",
              "17           18    15788218  ...        14406.41       0\n",
              "18           19    15661507  ...       158684.81       0\n",
              "19           20    15568982  ...        54724.03       0\n",
              "20           21    15577657  ...       170886.17       0\n",
              "21           22    15597945  ...       138555.46       0\n",
              "22           23    15699309  ...       118913.53       1\n",
              "23           24    15725737  ...         8487.75       0\n",
              "24           25    15625047  ...       187616.16       0\n",
              "25           26    15738191  ...       124508.29       0\n",
              "26           27    15736816  ...       170041.95       0\n",
              "27           28    15700772  ...        38433.35       0\n",
              "28           29    15728693  ...       100187.43       0\n",
              "29           30    15656300  ...        53483.21       0\n",
              "...         ...         ...  ...             ...     ...\n",
              "9970       9971    15587133  ...       119377.36       0\n",
              "9971       9972    15721377  ...       166472.81       0\n",
              "9972       9973    15747927  ...       171552.02       0\n",
              "9973       9974    15806455  ...       157474.10       0\n",
              "9974       9975    15695474  ...        13549.24       0\n",
              "9975       9976    15666295  ...       196526.55       1\n",
              "9976       9977    15656062  ...        84419.78       0\n",
              "9977       9978    15579969  ...        24991.92       0\n",
              "9978       9979    15703563  ...       191608.97       0\n",
              "9979       9980    15692664  ...         2988.28       0\n",
              "9980       9981    15719276  ...        99595.67       0\n",
              "9981       9982    15672754  ...        53445.17       1\n",
              "9982       9983    15768163  ...       115146.40       1\n",
              "9983       9984    15656710  ...       151325.24       0\n",
              "9984       9985    15696175  ...        51695.41       0\n",
              "9985       9986    15586914  ...        96833.00       0\n",
              "9986       9987    15581736  ...        34047.54       0\n",
              "9987       9988    15588839  ...         1914.41       0\n",
              "9988       9989    15589329  ...        49337.84       0\n",
              "9989       9990    15605622  ...       179436.60       0\n",
              "9990       9991    15798964  ...        53667.08       0\n",
              "9991       9992    15769959  ...        69384.71       1\n",
              "9992       9993    15657105  ...       195192.40       0\n",
              "9993       9994    15569266  ...        29179.52       0\n",
              "9994       9995    15719294  ...       167773.55       0\n",
              "9995       9996    15606229  ...        96270.64       0\n",
              "9996       9997    15569892  ...       101699.77       0\n",
              "9997       9998    15584532  ...        42085.58       1\n",
              "9998       9999    15682355  ...        92888.52       1\n",
              "9999      10000    15628319  ...        38190.78       0\n",
              "\n",
              "[10000 rows x 14 columns]>"
            ]
          },
          "metadata": {
            "tags": []
          },
          "execution_count": 3
        }
      ]
    },
    {
      "cell_type": "code",
      "metadata": {
        "id": "Q_b9X5jl6RdC",
        "colab_type": "code",
        "colab": {
          "base_uri": "https://localhost:8080/",
          "height": 340
        },
        "outputId": "9ece1bdc-5da6-422e-c887-5a3506df3f3c"
      },
      "source": [
        "# schema\n",
        "df.info()"
      ],
      "execution_count": 4,
      "outputs": [
        {
          "output_type": "stream",
          "text": [
            "<class 'pandas.core.frame.DataFrame'>\n",
            "RangeIndex: 10000 entries, 0 to 9999\n",
            "Data columns (total 14 columns):\n",
            "RowNumber          10000 non-null int64\n",
            "CustomerId         10000 non-null int64\n",
            "Surname            10000 non-null object\n",
            "CreditScore        10000 non-null int64\n",
            "Geography          10000 non-null object\n",
            "Gender             10000 non-null object\n",
            "Age                10000 non-null int64\n",
            "Tenure             10000 non-null int64\n",
            "Balance            10000 non-null float64\n",
            "NumOfProducts      10000 non-null int64\n",
            "HasCrCard          10000 non-null int64\n",
            "IsActiveMember     10000 non-null int64\n",
            "EstimatedSalary    10000 non-null float64\n",
            "Exited             10000 non-null int64\n",
            "dtypes: float64(2), int64(9), object(3)\n",
            "memory usage: 1.1+ MB\n"
          ],
          "name": "stdout"
        }
      ]
    },
    {
      "cell_type": "code",
      "metadata": {
        "id": "PhvFc4uW6WRc",
        "colab_type": "code",
        "colab": {}
      },
      "source": [
        "# removing data\n",
        "features=df.iloc[:,3:13].values"
      ],
      "execution_count": 0,
      "outputs": []
    },
    {
      "cell_type": "code",
      "metadata": {
        "id": "Nf01Dz8G6fCu",
        "colab_type": "code",
        "colab": {
          "base_uri": "https://localhost:8080/",
          "height": 136
        },
        "outputId": "9801f4cb-1c0c-427c-ebc7-7721e8881b63"
      },
      "source": [
        "features"
      ],
      "execution_count": 6,
      "outputs": [
        {
          "output_type": "execute_result",
          "data": {
            "text/plain": [
              "array([[619, 'France', 'Female', ..., 1, 1, 101348.88],\n",
              "       [608, 'Spain', 'Female', ..., 0, 1, 112542.58],\n",
              "       [502, 'France', 'Female', ..., 1, 0, 113931.57],\n",
              "       ...,\n",
              "       [709, 'France', 'Female', ..., 0, 1, 42085.58],\n",
              "       [772, 'Germany', 'Male', ..., 1, 0, 92888.52],\n",
              "       [792, 'France', 'Female', ..., 1, 0, 38190.78]], dtype=object)"
            ]
          },
          "metadata": {
            "tags": []
          },
          "execution_count": 6
        }
      ]
    },
    {
      "cell_type": "code",
      "metadata": {
        "id": "VYshd5I26gLo",
        "colab_type": "code",
        "colab": {
          "base_uri": "https://localhost:8080/",
          "height": 34
        },
        "outputId": "9444ade6-94ce-4bc1-94b4-8ea734a29789"
      },
      "source": [
        "features.shape"
      ],
      "execution_count": 7,
      "outputs": [
        {
          "output_type": "execute_result",
          "data": {
            "text/plain": [
              "(10000, 10)"
            ]
          },
          "metadata": {
            "tags": []
          },
          "execution_count": 7
        }
      ]
    },
    {
      "cell_type": "code",
      "metadata": {
        "id": "hctGIzFn6iQx",
        "colab_type": "code",
        "colab": {}
      },
      "source": [
        "# finding label\n",
        "label=df.iloc[:,13].values"
      ],
      "execution_count": 0,
      "outputs": []
    },
    {
      "cell_type": "code",
      "metadata": {
        "id": "hITQvNfY6pxU",
        "colab_type": "code",
        "colab": {
          "base_uri": "https://localhost:8080/",
          "height": 34
        },
        "outputId": "e4ec3cfa-e44a-4ddb-8db5-3428112739f5"
      },
      "source": [
        "label.shape"
      ],
      "execution_count": 9,
      "outputs": [
        {
          "output_type": "execute_result",
          "data": {
            "text/plain": [
              "(10000,)"
            ]
          },
          "metadata": {
            "tags": []
          },
          "execution_count": 9
        }
      ]
    },
    {
      "cell_type": "code",
      "metadata": {
        "id": "PskI1DeN6rDC",
        "colab_type": "code",
        "colab": {}
      },
      "source": [
        "# label encoding\n",
        "from sklearn.preprocessing   import LabelEncoder,OneHotEncoder"
      ],
      "execution_count": 0,
      "outputs": []
    },
    {
      "cell_type": "code",
      "metadata": {
        "id": "zxqZbnOy64Gp",
        "colab_type": "code",
        "colab": {}
      },
      "source": [
        "# --\n",
        "lbc=LabelEncoder()"
      ],
      "execution_count": 0,
      "outputs": []
    },
    {
      "cell_type": "code",
      "metadata": {
        "id": "d3rjxLZ969zN",
        "colab_type": "code",
        "colab": {}
      },
      "source": [
        "# for geo\n",
        "features[:,1]=lbc.fit_transform(features[:,1])"
      ],
      "execution_count": 0,
      "outputs": []
    },
    {
      "cell_type": "code",
      "metadata": {
        "id": "eoU6gbEw7JS8",
        "colab_type": "code",
        "colab": {}
      },
      "source": [
        "# gender\n",
        "features[:,2]=lbc.fit_transform(features[:,2])"
      ],
      "execution_count": 0,
      "outputs": []
    },
    {
      "cell_type": "code",
      "metadata": {
        "id": "kO9K6IGO7YVW",
        "colab_type": "code",
        "colab": {
          "base_uri": "https://localhost:8080/",
          "height": 136
        },
        "outputId": "fd7dc5b9-e21f-45d7-e15e-b0436ddec95e"
      },
      "source": [
        "features"
      ],
      "execution_count": 14,
      "outputs": [
        {
          "output_type": "execute_result",
          "data": {
            "text/plain": [
              "array([[619, 0, 0, ..., 1, 1, 101348.88],\n",
              "       [608, 2, 0, ..., 0, 1, 112542.58],\n",
              "       [502, 0, 0, ..., 1, 0, 113931.57],\n",
              "       ...,\n",
              "       [709, 0, 0, ..., 0, 1, 42085.58],\n",
              "       [772, 1, 1, ..., 1, 0, 92888.52],\n",
              "       [792, 0, 0, ..., 1, 0, 38190.78]], dtype=object)"
            ]
          },
          "metadata": {
            "tags": []
          },
          "execution_count": 14
        }
      ]
    },
    {
      "cell_type": "code",
      "metadata": {
        "id": "KDvTKhiC7Z0Z",
        "colab_type": "code",
        "colab": {}
      },
      "source": [
        "# creating dummy variables\n",
        "one=OneHotEncoder(categorical_features=[1])"
      ],
      "execution_count": 0,
      "outputs": []
    },
    {
      "cell_type": "code",
      "metadata": {
        "id": "8roDlnMS7fum",
        "colab_type": "code",
        "colab": {
          "base_uri": "https://localhost:8080/",
          "height": 139
        },
        "outputId": "a7548f01-9ed8-480b-d617-d3fa70c5724a"
      },
      "source": [
        "# apply\n",
        "features=one.fit_transform(features).toarray()\n",
        "features1=features[:,1:]"
      ],
      "execution_count": 16,
      "outputs": [
        {
          "output_type": "stream",
          "text": [
            "/usr/local/lib/python3.6/dist-packages/sklearn/preprocessing/_encoders.py:415: FutureWarning: The handling of integer data will change in version 0.22. Currently, the categories are determined based on the range [0, max(values)], while in the future they will be determined based on the unique values.\n",
            "If you want the future behaviour and silence this warning, you can specify \"categories='auto'\".\n",
            "In case you used a LabelEncoder before this OneHotEncoder to convert the categories to integers, then you can now use the OneHotEncoder directly.\n",
            "  warnings.warn(msg, FutureWarning)\n",
            "/usr/local/lib/python3.6/dist-packages/sklearn/preprocessing/_encoders.py:451: DeprecationWarning: The 'categorical_features' keyword is deprecated in version 0.20 and will be removed in 0.22. You can use the ColumnTransformer instead.\n",
            "  \"use the ColumnTransformer instead.\", DeprecationWarning)\n"
          ],
          "name": "stderr"
        }
      ]
    },
    {
      "cell_type": "code",
      "metadata": {
        "id": "hs1b0M3NBGHq",
        "colab_type": "code",
        "colab": {
          "base_uri": "https://localhost:8080/",
          "height": 34
        },
        "outputId": "5e6eef89-2ac8-47ec-84e2-e6d543d71e49"
      },
      "source": [
        "# checking columns\n",
        "features1.shape"
      ],
      "execution_count": 17,
      "outputs": [
        {
          "output_type": "execute_result",
          "data": {
            "text/plain": [
              "(10000, 11)"
            ]
          },
          "metadata": {
            "tags": []
          },
          "execution_count": 17
        }
      ]
    },
    {
      "cell_type": "code",
      "metadata": {
        "id": "5H0kzexA7vku",
        "colab_type": "code",
        "colab": {}
      },
      "source": [
        "# training and testing\n",
        "from sklearn.model_selection   import train_test_split"
      ],
      "execution_count": 0,
      "outputs": []
    },
    {
      "cell_type": "code",
      "metadata": {
        "id": "9lQPZo-o78p4",
        "colab_type": "code",
        "colab": {}
      },
      "source": [
        "X,x,Y,y=train_test_split(features1,label,test_size=0.2)"
      ],
      "execution_count": 0,
      "outputs": []
    },
    {
      "cell_type": "code",
      "metadata": {
        "id": "vh5uBDSC8UuZ",
        "colab_type": "code",
        "colab": {}
      },
      "source": [
        "# feature scaling\n",
        "from sklearn.preprocessing   import StandardScaler"
      ],
      "execution_count": 0,
      "outputs": []
    },
    {
      "cell_type": "code",
      "metadata": {
        "id": "q4d1enFf8oZf",
        "colab_type": "code",
        "colab": {}
      },
      "source": [
        "sc=StandardScaler()"
      ],
      "execution_count": 0,
      "outputs": []
    },
    {
      "cell_type": "code",
      "metadata": {
        "id": "jYszk-WT8q_Z",
        "colab_type": "code",
        "colab": {}
      },
      "source": [
        "# training data scale\n",
        "X=sc.fit_transform(X)"
      ],
      "execution_count": 0,
      "outputs": []
    },
    {
      "cell_type": "code",
      "metadata": {
        "id": "0lZXK31P89nW",
        "colab_type": "code",
        "colab": {}
      },
      "source": [
        "# testing data transform\n",
        "x=sc.transform(x)"
      ],
      "execution_count": 0,
      "outputs": []
    },
    {
      "cell_type": "code",
      "metadata": {
        "id": "Qt4aVcI19E4e",
        "colab_type": "code",
        "colab": {
          "base_uri": "https://localhost:8080/",
          "height": 34
        },
        "outputId": "cb8a660f-6acf-4c4a-9a73-c860bd25de19"
      },
      "source": [
        "# X\n",
        "x.shape"
      ],
      "execution_count": 32,
      "outputs": [
        {
          "output_type": "execute_result",
          "data": {
            "text/plain": [
              "(2000, 11)"
            ]
          },
          "metadata": {
            "tags": []
          },
          "execution_count": 32
        }
      ]
    },
    {
      "cell_type": "code",
      "metadata": {
        "id": "Duzfmp4f9MU1",
        "colab_type": "code",
        "colab": {}
      },
      "source": [
        ""
      ],
      "execution_count": 0,
      "outputs": []
    },
    {
      "cell_type": "code",
      "metadata": {
        "id": "HKPOfNDE9zGJ",
        "colab_type": "code",
        "colab": {
          "base_uri": "https://localhost:8080/",
          "height": 34
        },
        "outputId": "f6659b52-90df-4b8e-b7d1-c1e526d5726f"
      },
      "source": [
        "X.shape"
      ],
      "execution_count": 34,
      "outputs": [
        {
          "output_type": "execute_result",
          "data": {
            "text/plain": [
              "(8000, 11)"
            ]
          },
          "metadata": {
            "tags": []
          },
          "execution_count": 34
        }
      ]
    },
    {
      "cell_type": "code",
      "metadata": {
        "id": "tBNb2FsfBgyJ",
        "colab_type": "code",
        "colab": {}
      },
      "source": [
        "# now we can create ANN model"
      ],
      "execution_count": 0,
      "outputs": []
    },
    {
      "cell_type": "code",
      "metadata": {
        "id": "olXDWjqtCjxC",
        "colab_type": "code",
        "colab": {
          "base_uri": "https://localhost:8080/",
          "height": 299
        },
        "outputId": "000f316d-bec8-4af6-db30-99f1d7937413"
      },
      "source": [
        "import Keras   # this is the way of using tensorflow in background"
      ],
      "execution_count": 37,
      "outputs": [
        {
          "output_type": "error",
          "ename": "ModuleNotFoundError",
          "evalue": "ignored",
          "traceback": [
            "\u001b[0;31m---------------------------------------------------------------------------\u001b[0m",
            "\u001b[0;31mModuleNotFoundError\u001b[0m                       Traceback (most recent call last)",
            "\u001b[0;32m<ipython-input-37-911699371886>\u001b[0m in \u001b[0;36m<module>\u001b[0;34m()\u001b[0m\n\u001b[0;32m----> 1\u001b[0;31m \u001b[0;32mimport\u001b[0m \u001b[0mKeras\u001b[0m   \u001b[0;31m# this is the way of using tensorflow in background\u001b[0m\u001b[0;34m\u001b[0m\u001b[0;34m\u001b[0m\u001b[0m\n\u001b[0m",
            "\u001b[0;31mModuleNotFoundError\u001b[0m: No module named 'Keras'",
            "",
            "\u001b[0;31m---------------------------------------------------------------------------\u001b[0;32m\nNOTE: If your import is failing due to a missing package, you can\nmanually install dependencies using either !pip or !apt.\n\nTo view examples of installing some common dependencies, click the\n\"Open Examples\" button below.\n\u001b[0;31m---------------------------------------------------------------------------\u001b[0m\n"
          ]
        }
      ]
    },
    {
      "cell_type": "code",
      "metadata": {
        "id": "xUIyX3qUCuWO",
        "colab_type": "code",
        "colab": {
          "base_uri": "https://localhost:8080/",
          "height": 357
        },
        "outputId": "5871ec94-65ec-4f24-a287-d6fb55a55ae7"
      },
      "source": [
        "!pip3 install TensorFlow\n"
      ],
      "execution_count": 38,
      "outputs": [
        {
          "output_type": "stream",
          "text": [
            "Requirement already satisfied: TensorFlow in /usr/local/lib/python3.6/dist-packages (1.14.0)\n",
            "Requirement already satisfied: keras-preprocessing>=1.0.5 in /usr/local/lib/python3.6/dist-packages (from TensorFlow) (1.1.0)\n",
            "Requirement already satisfied: protobuf>=3.6.1 in /usr/local/lib/python3.6/dist-packages (from TensorFlow) (3.7.1)\n",
            "Requirement already satisfied: wheel>=0.26 in /usr/local/lib/python3.6/dist-packages (from TensorFlow) (0.33.4)\n",
            "Requirement already satisfied: google-pasta>=0.1.6 in /usr/local/lib/python3.6/dist-packages (from TensorFlow) (0.1.7)\n",
            "Requirement already satisfied: six>=1.10.0 in /usr/local/lib/python3.6/dist-packages (from TensorFlow) (1.12.0)\n",
            "Requirement already satisfied: absl-py>=0.7.0 in /usr/local/lib/python3.6/dist-packages (from TensorFlow) (0.7.1)\n",
            "Requirement already satisfied: tensorflow-estimator<1.15.0rc0,>=1.14.0rc0 in /usr/local/lib/python3.6/dist-packages (from TensorFlow) (1.14.0)\n",
            "Requirement already satisfied: gast>=0.2.0 in /usr/local/lib/python3.6/dist-packages (from TensorFlow) (0.2.2)\n",
            "Requirement already satisfied: tensorboard<1.15.0,>=1.14.0 in /usr/local/lib/python3.6/dist-packages (from TensorFlow) (1.14.0)\n",
            "Requirement already satisfied: termcolor>=1.1.0 in /usr/local/lib/python3.6/dist-packages (from TensorFlow) (1.1.0)\n",
            "Requirement already satisfied: astor>=0.6.0 in /usr/local/lib/python3.6/dist-packages (from TensorFlow) (0.8.0)\n",
            "Requirement already satisfied: numpy<2.0,>=1.14.5 in /usr/local/lib/python3.6/dist-packages (from TensorFlow) (1.16.4)\n",
            "Requirement already satisfied: keras-applications>=1.0.6 in /usr/local/lib/python3.6/dist-packages (from TensorFlow) (1.0.8)\n",
            "Requirement already satisfied: grpcio>=1.8.6 in /usr/local/lib/python3.6/dist-packages (from TensorFlow) (1.15.0)\n",
            "Requirement already satisfied: wrapt>=1.11.1 in /usr/local/lib/python3.6/dist-packages (from TensorFlow) (1.11.2)\n",
            "Requirement already satisfied: setuptools in /usr/local/lib/python3.6/dist-packages (from protobuf>=3.6.1->TensorFlow) (41.0.1)\n",
            "Requirement already satisfied: markdown>=2.6.8 in /usr/local/lib/python3.6/dist-packages (from tensorboard<1.15.0,>=1.14.0->TensorFlow) (3.1.1)\n",
            "Requirement already satisfied: werkzeug>=0.11.15 in /usr/local/lib/python3.6/dist-packages (from tensorboard<1.15.0,>=1.14.0->TensorFlow) (0.15.4)\n",
            "Requirement already satisfied: h5py in /usr/local/lib/python3.6/dist-packages (from keras-applications>=1.0.6->TensorFlow) (2.8.0)\n"
          ],
          "name": "stdout"
        }
      ]
    },
    {
      "cell_type": "code",
      "metadata": {
        "id": "Hh1ckQOeEqa4",
        "colab_type": "code",
        "colab": {
          "base_uri": "https://localhost:8080/",
          "height": 153
        },
        "outputId": "10aefd51-523d-4a5e-b37d-7a158ecb6cc8"
      },
      "source": [
        "!pip3 install keras\n"
      ],
      "execution_count": 42,
      "outputs": [
        {
          "output_type": "stream",
          "text": [
            "Requirement already satisfied: keras in /usr/local/lib/python3.6/dist-packages (2.2.4)\n",
            "Requirement already satisfied: numpy>=1.9.1 in /usr/local/lib/python3.6/dist-packages (from keras) (1.16.4)\n",
            "Requirement already satisfied: scipy>=0.14 in /usr/local/lib/python3.6/dist-packages (from keras) (1.3.0)\n",
            "Requirement already satisfied: h5py in /usr/local/lib/python3.6/dist-packages (from keras) (2.8.0)\n",
            "Requirement already satisfied: keras-applications>=1.0.6 in /usr/local/lib/python3.6/dist-packages (from keras) (1.0.8)\n",
            "Requirement already satisfied: six>=1.9.0 in /usr/local/lib/python3.6/dist-packages (from keras) (1.12.0)\n",
            "Requirement already satisfied: pyyaml in /usr/local/lib/python3.6/dist-packages (from keras) (3.13)\n",
            "Requirement already satisfied: keras-preprocessing>=1.0.5 in /usr/local/lib/python3.6/dist-packages (from keras) (1.1.0)\n"
          ],
          "name": "stdout"
        }
      ]
    },
    {
      "cell_type": "code",
      "metadata": {
        "id": "5kBR1KFgEMx3",
        "colab_type": "code",
        "colab": {}
      },
      "source": [
        "import keras"
      ],
      "execution_count": 0,
      "outputs": []
    },
    {
      "cell_type": "code",
      "metadata": {
        "id": "Uj0nBTqaESSU",
        "colab_type": "code",
        "colab": {}
      },
      "source": [
        "from keras.models  import Sequential"
      ],
      "execution_count": 0,
      "outputs": []
    },
    {
      "cell_type": "code",
      "metadata": {
        "id": "deALHNgMEY3P",
        "colab_type": "code",
        "colab": {}
      },
      "source": [
        "# filling data in each layer\n",
        "from keras.layers  import Dense\n",
        "# this will give the method to decide activation function and number of nodes in each layer\n",
        "# including input,hidden and output layer"
      ],
      "execution_count": 0,
      "outputs": []
    },
    {
      "cell_type": "code",
      "metadata": {
        "id": "JSUWs3NwEdwq",
        "colab_type": "code",
        "colab": {
          "base_uri": "https://localhost:8080/",
          "height": 88
        },
        "outputId": "edb422ea-1368-4385-8c8b-cdfb2b31ecab"
      },
      "source": [
        "# now we can design model\n",
        "model=Sequential()"
      ],
      "execution_count": 48,
      "outputs": [
        {
          "output_type": "stream",
          "text": [
            "WARNING: Logging before flag parsing goes to stderr.\n",
            "W0708 10:15:16.408090 140243432605568 deprecation_wrapper.py:119] From /usr/local/lib/python3.6/dist-packages/keras/backend/tensorflow_backend.py:74: The name tf.get_default_graph is deprecated. Please use tf.compat.v1.get_default_graph instead.\n",
            "\n"
          ],
          "name": "stderr"
        }
      ]
    },
    {
      "cell_type": "code",
      "metadata": {
        "id": "MFStiMerFJBW",
        "colab_type": "code",
        "colab": {
          "base_uri": "https://localhost:8080/",
          "height": 105
        },
        "outputId": "f875dbe6-1cfc-4122-e8a3-07b523866e55"
      },
      "source": [
        "# now can web add imput layer\n",
        "model.add(Dense(6,input_shape=(11,),activation=\"relu\"))\n",
        "# relu -- means  rectifier activation function"
      ],
      "execution_count": 49,
      "outputs": [
        {
          "output_type": "stream",
          "text": [
            "W0708 10:20:45.224885 140243432605568 deprecation_wrapper.py:119] From /usr/local/lib/python3.6/dist-packages/keras/backend/tensorflow_backend.py:517: The name tf.placeholder is deprecated. Please use tf.compat.v1.placeholder instead.\n",
            "\n",
            "W0708 10:20:45.239105 140243432605568 deprecation_wrapper.py:119] From /usr/local/lib/python3.6/dist-packages/keras/backend/tensorflow_backend.py:4138: The name tf.random_uniform is deprecated. Please use tf.random.uniform instead.\n",
            "\n"
          ],
          "name": "stderr"
        }
      ]
    },
    {
      "cell_type": "code",
      "metadata": {
        "id": "6elXOw7WGZTn",
        "colab_type": "code",
        "colab": {}
      },
      "source": [
        "# adding one more hidden layer\n",
        "model.add(Dense(6,activation='relu'))\n",
        "# note we don't have to assign number of inputs after first/input layer"
      ],
      "execution_count": 0,
      "outputs": []
    },
    {
      "cell_type": "code",
      "metadata": {
        "id": "DMvkwKaKHKIY",
        "colab_type": "code",
        "colab": {}
      },
      "source": [
        "# final layer adding \n",
        "model.add(Dense(1,activation='sigmoid'))"
      ],
      "execution_count": 0,
      "outputs": []
    },
    {
      "cell_type": "code",
      "metadata": {
        "id": "gW9lk-YoHyus",
        "colab_type": "code",
        "colab": {
          "base_uri": "https://localhost:8080/",
          "height": 156
        },
        "outputId": "2c37cd12-dc11-4f7d-db08-92680cc19e33"
      },
      "source": [
        "# compile\n",
        "model.compile(optimizer='adam',loss='binary_crossentropy',metrics=['accuracy'])\n",
        "#  optimizer -- weight adjust method  -- stochastic  g d (adam)"
      ],
      "execution_count": 53,
      "outputs": [
        {
          "output_type": "stream",
          "text": [
            "W0708 10:34:39.998919 140243432605568 deprecation_wrapper.py:119] From /usr/local/lib/python3.6/dist-packages/keras/optimizers.py:790: The name tf.train.Optimizer is deprecated. Please use tf.compat.v1.train.Optimizer instead.\n",
            "\n",
            "W0708 10:34:40.039463 140243432605568 deprecation_wrapper.py:119] From /usr/local/lib/python3.6/dist-packages/keras/backend/tensorflow_backend.py:3376: The name tf.log is deprecated. Please use tf.math.log instead.\n",
            "\n",
            "W0708 10:34:40.049354 140243432605568 deprecation.py:323] From /usr/local/lib/python3.6/dist-packages/tensorflow/python/ops/nn_impl.py:180: add_dispatch_support.<locals>.wrapper (from tensorflow.python.ops.array_ops) is deprecated and will be removed in a future version.\n",
            "Instructions for updating:\n",
            "Use tf.where in 2.0, which has the same broadcast rule as np.where\n"
          ],
          "name": "stderr"
        }
      ]
    },
    {
      "cell_type": "code",
      "metadata": {
        "id": "v3-rBAGTJaEl",
        "colab_type": "code",
        "colab": {
          "base_uri": "https://localhost:8080/",
          "height": 1000
        },
        "outputId": "0b170aa0-02b7-4559-e618-2fde0f96af2e"
      },
      "source": [
        "\n",
        "# training data fit\n",
        "model.fit(X,Y,batch_size=2000,epochs=100)"
      ],
      "execution_count": 54,
      "outputs": [
        {
          "output_type": "stream",
          "text": [
            "W0708 10:38:56.226013 140243432605568 deprecation_wrapper.py:119] From /usr/local/lib/python3.6/dist-packages/keras/backend/tensorflow_backend.py:986: The name tf.assign_add is deprecated. Please use tf.compat.v1.assign_add instead.\n",
            "\n"
          ],
          "name": "stderr"
        },
        {
          "output_type": "stream",
          "text": [
            "Epoch 1/100\n",
            "8000/8000 [==============================] - 1s 93us/step - loss: 0.5772 - acc: 0.7957\n",
            "Epoch 2/100\n",
            "8000/8000 [==============================] - 0s 2us/step - loss: 0.5715 - acc: 0.7958\n",
            "Epoch 3/100\n",
            "8000/8000 [==============================] - 0s 2us/step - loss: 0.5655 - acc: 0.7957\n",
            "Epoch 4/100\n",
            "8000/8000 [==============================] - 0s 3us/step - loss: 0.5599 - acc: 0.7957\n",
            "Epoch 5/100\n",
            "8000/8000 [==============================] - 0s 2us/step - loss: 0.5544 - acc: 0.7957\n",
            "Epoch 6/100\n",
            "8000/8000 [==============================] - 0s 2us/step - loss: 0.5492 - acc: 0.7957\n",
            "Epoch 7/100\n",
            "8000/8000 [==============================] - 0s 2us/step - loss: 0.5444 - acc: 0.7958\n",
            "Epoch 8/100\n",
            "8000/8000 [==============================] - 0s 2us/step - loss: 0.5396 - acc: 0.7958\n",
            "Epoch 9/100\n",
            "8000/8000 [==============================] - 0s 2us/step - loss: 0.5352 - acc: 0.7958\n",
            "Epoch 10/100\n",
            "8000/8000 [==============================] - 0s 2us/step - loss: 0.5309 - acc: 0.7957\n",
            "Epoch 11/100\n",
            "8000/8000 [==============================] - 0s 2us/step - loss: 0.5269 - acc: 0.7958\n",
            "Epoch 12/100\n",
            "8000/8000 [==============================] - 0s 2us/step - loss: 0.5230 - acc: 0.7958\n",
            "Epoch 13/100\n",
            "8000/8000 [==============================] - 0s 2us/step - loss: 0.5194 - acc: 0.7958\n",
            "Epoch 14/100\n",
            "8000/8000 [==============================] - 0s 2us/step - loss: 0.5159 - acc: 0.7958\n",
            "Epoch 15/100\n",
            "8000/8000 [==============================] - 0s 2us/step - loss: 0.5126 - acc: 0.7958\n",
            "Epoch 16/100\n",
            "8000/8000 [==============================] - 0s 2us/step - loss: 0.5094 - acc: 0.7958\n",
            "Epoch 17/100\n",
            "8000/8000 [==============================] - 0s 2us/step - loss: 0.5063 - acc: 0.7957\n",
            "Epoch 18/100\n",
            "8000/8000 [==============================] - 0s 2us/step - loss: 0.5034 - acc: 0.7957\n",
            "Epoch 19/100\n",
            "8000/8000 [==============================] - 0s 2us/step - loss: 0.5006 - acc: 0.7957\n",
            "Epoch 20/100\n",
            "8000/8000 [==============================] - 0s 2us/step - loss: 0.4980 - acc: 0.7958\n",
            "Epoch 21/100\n",
            "8000/8000 [==============================] - 0s 2us/step - loss: 0.4955 - acc: 0.7958\n",
            "Epoch 22/100\n",
            "8000/8000 [==============================] - 0s 2us/step - loss: 0.4930 - acc: 0.7957\n",
            "Epoch 23/100\n",
            "8000/8000 [==============================] - 0s 2us/step - loss: 0.4906 - acc: 0.7958\n",
            "Epoch 24/100\n",
            "8000/8000 [==============================] - 0s 2us/step - loss: 0.4883 - acc: 0.7957\n",
            "Epoch 25/100\n",
            "8000/8000 [==============================] - 0s 2us/step - loss: 0.4860 - acc: 0.7958\n",
            "Epoch 26/100\n",
            "8000/8000 [==============================] - 0s 2us/step - loss: 0.4839 - acc: 0.7957\n",
            "Epoch 27/100\n",
            "8000/8000 [==============================] - 0s 2us/step - loss: 0.4819 - acc: 0.7957\n",
            "Epoch 28/100\n",
            "8000/8000 [==============================] - 0s 2us/step - loss: 0.4798 - acc: 0.7957\n",
            "Epoch 29/100\n",
            "8000/8000 [==============================] - 0s 2us/step - loss: 0.4779 - acc: 0.7957\n",
            "Epoch 30/100\n",
            "8000/8000 [==============================] - 0s 2us/step - loss: 0.4760 - acc: 0.7957\n",
            "Epoch 31/100\n",
            "8000/8000 [==============================] - 0s 2us/step - loss: 0.4742 - acc: 0.7957\n",
            "Epoch 32/100\n",
            "8000/8000 [==============================] - 0s 2us/step - loss: 0.4723 - acc: 0.7958\n",
            "Epoch 33/100\n",
            "8000/8000 [==============================] - 0s 2us/step - loss: 0.4706 - acc: 0.7958\n",
            "Epoch 34/100\n",
            "8000/8000 [==============================] - 0s 2us/step - loss: 0.4689 - acc: 0.7958\n",
            "Epoch 35/100\n",
            "8000/8000 [==============================] - 0s 2us/step - loss: 0.4672 - acc: 0.7958\n",
            "Epoch 36/100\n",
            "8000/8000 [==============================] - 0s 2us/step - loss: 0.4656 - acc: 0.7957\n",
            "Epoch 37/100\n",
            "8000/8000 [==============================] - 0s 2us/step - loss: 0.4639 - acc: 0.7957\n",
            "Epoch 38/100\n",
            "8000/8000 [==============================] - 0s 2us/step - loss: 0.4624 - acc: 0.7958\n",
            "Epoch 39/100\n",
            "8000/8000 [==============================] - 0s 2us/step - loss: 0.4609 - acc: 0.7958\n",
            "Epoch 40/100\n",
            "8000/8000 [==============================] - 0s 2us/step - loss: 0.4594 - acc: 0.7958\n",
            "Epoch 41/100\n",
            "8000/8000 [==============================] - 0s 2us/step - loss: 0.4580 - acc: 0.7958\n",
            "Epoch 42/100\n",
            "8000/8000 [==============================] - 0s 2us/step - loss: 0.4566 - acc: 0.7957\n",
            "Epoch 43/100\n",
            "8000/8000 [==============================] - 0s 2us/step - loss: 0.4553 - acc: 0.7958\n",
            "Epoch 44/100\n",
            "8000/8000 [==============================] - 0s 2us/step - loss: 0.4540 - acc: 0.7957\n",
            "Epoch 45/100\n",
            "8000/8000 [==============================] - 0s 2us/step - loss: 0.4527 - acc: 0.7958\n",
            "Epoch 46/100\n",
            "8000/8000 [==============================] - 0s 2us/step - loss: 0.4515 - acc: 0.7957\n",
            "Epoch 47/100\n",
            "8000/8000 [==============================] - 0s 2us/step - loss: 0.4503 - acc: 0.7958\n",
            "Epoch 48/100\n",
            "8000/8000 [==============================] - 0s 2us/step - loss: 0.4490 - acc: 0.7958\n",
            "Epoch 49/100\n",
            "8000/8000 [==============================] - 0s 2us/step - loss: 0.4478 - acc: 0.7958\n",
            "Epoch 50/100\n",
            "8000/8000 [==============================] - 0s 2us/step - loss: 0.4467 - acc: 0.7957\n",
            "Epoch 51/100\n",
            "8000/8000 [==============================] - 0s 2us/step - loss: 0.4455 - acc: 0.7957\n",
            "Epoch 52/100\n",
            "8000/8000 [==============================] - 0s 2us/step - loss: 0.4444 - acc: 0.7957\n",
            "Epoch 53/100\n",
            "8000/8000 [==============================] - 0s 3us/step - loss: 0.4433 - acc: 0.7957\n",
            "Epoch 54/100\n",
            "8000/8000 [==============================] - 0s 2us/step - loss: 0.4423 - acc: 0.7958\n",
            "Epoch 55/100\n",
            "8000/8000 [==============================] - 0s 2us/step - loss: 0.4413 - acc: 0.7958\n",
            "Epoch 56/100\n",
            "8000/8000 [==============================] - 0s 2us/step - loss: 0.4403 - acc: 0.7958\n",
            "Epoch 57/100\n",
            "8000/8000 [==============================] - 0s 2us/step - loss: 0.4393 - acc: 0.7957\n",
            "Epoch 58/100\n",
            "8000/8000 [==============================] - 0s 2us/step - loss: 0.4384 - acc: 0.7957\n",
            "Epoch 59/100\n",
            "8000/8000 [==============================] - 0s 2us/step - loss: 0.4375 - acc: 0.7958\n",
            "Epoch 60/100\n",
            "8000/8000 [==============================] - 0s 2us/step - loss: 0.4366 - acc: 0.7957\n",
            "Epoch 61/100\n",
            "8000/8000 [==============================] - 0s 2us/step - loss: 0.4356 - acc: 0.7957\n",
            "Epoch 62/100\n",
            "8000/8000 [==============================] - 0s 2us/step - loss: 0.4347 - acc: 0.7957\n",
            "Epoch 63/100\n",
            "8000/8000 [==============================] - 0s 2us/step - loss: 0.4338 - acc: 0.7957\n",
            "Epoch 64/100\n",
            "8000/8000 [==============================] - 0s 2us/step - loss: 0.4330 - acc: 0.7957\n",
            "Epoch 65/100\n",
            "8000/8000 [==============================] - 0s 2us/step - loss: 0.4321 - acc: 0.7958\n",
            "Epoch 66/100\n",
            "8000/8000 [==============================] - 0s 2us/step - loss: 0.4313 - acc: 0.7958\n",
            "Epoch 67/100\n",
            "8000/8000 [==============================] - 0s 2us/step - loss: 0.4305 - acc: 0.7958\n",
            "Epoch 68/100\n",
            "8000/8000 [==============================] - 0s 2us/step - loss: 0.4297 - acc: 0.7957\n",
            "Epoch 69/100\n",
            "8000/8000 [==============================] - 0s 2us/step - loss: 0.4288 - acc: 0.7958\n",
            "Epoch 70/100\n",
            "8000/8000 [==============================] - 0s 2us/step - loss: 0.4281 - acc: 0.7958\n",
            "Epoch 71/100\n",
            "8000/8000 [==============================] - 0s 2us/step - loss: 0.4273 - acc: 0.7958\n",
            "Epoch 72/100\n",
            "8000/8000 [==============================] - 0s 2us/step - loss: 0.4265 - acc: 0.7987\n",
            "Epoch 73/100\n",
            "8000/8000 [==============================] - 0s 2us/step - loss: 0.4258 - acc: 0.8044\n",
            "Epoch 74/100\n",
            "8000/8000 [==============================] - 0s 2us/step - loss: 0.4250 - acc: 0.8071\n",
            "Epoch 75/100\n",
            "8000/8000 [==============================] - 0s 2us/step - loss: 0.4242 - acc: 0.8099\n",
            "Epoch 76/100\n",
            "8000/8000 [==============================] - 0s 2us/step - loss: 0.4236 - acc: 0.8113\n",
            "Epoch 77/100\n",
            "8000/8000 [==============================] - 0s 2us/step - loss: 0.4228 - acc: 0.8135\n",
            "Epoch 78/100\n",
            "8000/8000 [==============================] - 0s 2us/step - loss: 0.4221 - acc: 0.8152\n",
            "Epoch 79/100\n",
            "8000/8000 [==============================] - 0s 2us/step - loss: 0.4214 - acc: 0.8164\n",
            "Epoch 80/100\n",
            "8000/8000 [==============================] - 0s 2us/step - loss: 0.4207 - acc: 0.8177\n",
            "Epoch 81/100\n",
            "8000/8000 [==============================] - 0s 2us/step - loss: 0.4200 - acc: 0.8190\n",
            "Epoch 82/100\n",
            "8000/8000 [==============================] - 0s 2us/step - loss: 0.4194 - acc: 0.8195\n",
            "Epoch 83/100\n",
            "8000/8000 [==============================] - 0s 2us/step - loss: 0.4187 - acc: 0.8194\n",
            "Epoch 84/100\n",
            "8000/8000 [==============================] - 0s 2us/step - loss: 0.4181 - acc: 0.8206\n",
            "Epoch 85/100\n",
            "8000/8000 [==============================] - 0s 2us/step - loss: 0.4174 - acc: 0.8215\n",
            "Epoch 86/100\n",
            "8000/8000 [==============================] - 0s 2us/step - loss: 0.4168 - acc: 0.8224\n",
            "Epoch 87/100\n",
            "8000/8000 [==============================] - 0s 2us/step - loss: 0.4162 - acc: 0.8229\n",
            "Epoch 88/100\n",
            "8000/8000 [==============================] - 0s 2us/step - loss: 0.4156 - acc: 0.8246\n",
            "Epoch 89/100\n",
            "8000/8000 [==============================] - 0s 2us/step - loss: 0.4150 - acc: 0.8255\n",
            "Epoch 90/100\n",
            "8000/8000 [==============================] - 0s 2us/step - loss: 0.4144 - acc: 0.8266\n",
            "Epoch 91/100\n",
            "8000/8000 [==============================] - 0s 2us/step - loss: 0.4138 - acc: 0.8269\n",
            "Epoch 92/100\n",
            "8000/8000 [==============================] - 0s 2us/step - loss: 0.4133 - acc: 0.8275\n",
            "Epoch 93/100\n",
            "8000/8000 [==============================] - 0s 2us/step - loss: 0.4127 - acc: 0.8283\n",
            "Epoch 94/100\n",
            "8000/8000 [==============================] - 0s 2us/step - loss: 0.4121 - acc: 0.8281\n",
            "Epoch 95/100\n",
            "8000/8000 [==============================] - 0s 2us/step - loss: 0.4116 - acc: 0.8284\n",
            "Epoch 96/100\n",
            "8000/8000 [==============================] - 0s 2us/step - loss: 0.4111 - acc: 0.8284\n",
            "Epoch 97/100\n",
            "8000/8000 [==============================] - 0s 2us/step - loss: 0.4105 - acc: 0.8279\n",
            "Epoch 98/100\n",
            "8000/8000 [==============================] - 0s 3us/step - loss: 0.4100 - acc: 0.8275\n",
            "Epoch 99/100\n",
            "8000/8000 [==============================] - 0s 3us/step - loss: 0.4095 - acc: 0.8280\n",
            "Epoch 100/100\n",
            "8000/8000 [==============================] - 0s 2us/step - loss: 0.4090 - acc: 0.8287\n"
          ],
          "name": "stdout"
        },
        {
          "output_type": "execute_result",
          "data": {
            "text/plain": [
              "<keras.callbacks.History at 0x7f8cb6da79b0>"
            ]
          },
          "metadata": {
            "tags": []
          },
          "execution_count": 54
        }
      ]
    },
    {
      "cell_type": "code",
      "metadata": {
        "id": "yQZomxWAKjnS",
        "colab_type": "code",
        "colab": {
          "base_uri": "https://localhost:8080/",
          "height": 136
        },
        "outputId": "a064b7ed-af42-4fc0-f682-5931317cbefc"
      },
      "source": [
        "model.predict(x)    # now prediction test data"
      ],
      "execution_count": 55,
      "outputs": [
        {
          "output_type": "execute_result",
          "data": {
            "text/plain": [
              "array([[0.01981822],\n",
              "       [0.20722935],\n",
              "       [0.01149392],\n",
              "       ...,\n",
              "       [0.08084449],\n",
              "       [0.23852885],\n",
              "       [0.06665668]], dtype=float32)"
            ]
          },
          "metadata": {
            "tags": []
          },
          "execution_count": 55
        }
      ]
    },
    {
      "cell_type": "code",
      "metadata": {
        "id": "4mR1tP6dK402",
        "colab_type": "code",
        "colab": {}
      },
      "source": [
        ""
      ],
      "execution_count": 0,
      "outputs": []
    }
  ]
}