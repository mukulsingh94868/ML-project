{
  "nbformat": 4,
  "nbformat_minor": 0,
  "metadata": {
    "colab": {
      "name": "nlp_examples_defi.ipynb",
      "version": "0.3.2",
      "provenance": [],
      "collapsed_sections": [],
      "include_colab_link": true
    },
    "kernelspec": {
      "name": "python3",
      "display_name": "Python 3"
    }
  },
  "cells": [
    {
      "cell_type": "markdown",
      "metadata": {
        "id": "view-in-github",
        "colab_type": "text"
      },
      "source": [
        "<a href=\"https://colab.research.google.com/github/mukulsingh94868/ML-project/blob/supervisedML/nlp_examples_defi.ipynb\" target=\"_parent\"><img src=\"https://colab.research.google.com/assets/colab-badge.svg\" alt=\"Open In Colab\"/></a>"
      ]
    },
    {
      "cell_type": "code",
      "metadata": {
        "id": "-EwB4y8-hKhl",
        "colab_type": "code",
        "colab": {}
      },
      "source": [
        "from nltk.corpus  import wordnet\n",
        "import time"
      ],
      "execution_count": 0,
      "outputs": []
    },
    {
      "cell_type": "code",
      "metadata": {
        "id": "zbJJCZSZhTDV",
        "colab_type": "code",
        "colab": {}
      },
      "source": [
        "ws=wordnet.synsets('work')   # lemma word pass"
      ],
      "execution_count": 0,
      "outputs": []
    },
    {
      "cell_type": "code",
      "metadata": {
        "id": "SqrglqhyhWcN",
        "colab_type": "code",
        "colab": {
          "base_uri": "https://localhost:8080/",
          "height": 34
        },
        "outputId": "355f2c5f-ce26-48d2-b045-ae759a2ffa89"
      },
      "source": [
        "len(ws)"
      ],
      "execution_count": 12,
      "outputs": [
        {
          "output_type": "execute_result",
          "data": {
            "text/plain": [
              "34"
            ]
          },
          "metadata": {
            "tags": []
          },
          "execution_count": 12
        }
      ]
    },
    {
      "cell_type": "code",
      "metadata": {
        "id": "Y24VM6rWhoHG",
        "colab_type": "code",
        "colab": {
          "base_uri": "https://localhost:8080/",
          "height": 34
        },
        "outputId": "45645c06-8197-4f5c-8085-f5422470706f"
      },
      "source": [
        "ws[0].definition()"
      ],
      "execution_count": 13,
      "outputs": [
        {
          "output_type": "execute_result",
          "data": {
            "text/plain": [
              "'activity directed toward making or doing something'"
            ]
          },
          "metadata": {
            "tags": []
          },
          "execution_count": 13
        }
      ]
    },
    {
      "cell_type": "code",
      "metadata": {
        "id": "R0Ha2VqIhtxk",
        "colab_type": "code",
        "colab": {
          "base_uri": "https://localhost:8080/",
          "height": 34
        },
        "outputId": "b40ee491-e898-4db8-a828-9c62b01dfee9"
      },
      "source": [
        "ws[1].definition()"
      ],
      "execution_count": 14,
      "outputs": [
        {
          "output_type": "execute_result",
          "data": {
            "text/plain": [
              "'a product produced or accomplished through the effort or activity or agency of a person or thing'"
            ]
          },
          "metadata": {
            "tags": []
          },
          "execution_count": 14
        }
      ]
    },
    {
      "cell_type": "code",
      "metadata": {
        "id": "cHg9d3ZkhzYg",
        "colab_type": "code",
        "colab": {
          "base_uri": "https://localhost:8080/",
          "height": 34
        },
        "outputId": "b0ecc5e2-49c1-44ff-d2e5-7d8d5fbcbede"
      },
      "source": [
        "ws[0].examples()"
      ],
      "execution_count": 15,
      "outputs": [
        {
          "output_type": "execute_result",
          "data": {
            "text/plain": [
              "['she checked several points needing further work']"
            ]
          },
          "metadata": {
            "tags": []
          },
          "execution_count": 15
        }
      ]
    },
    {
      "cell_type": "code",
      "metadata": {
        "id": "SEFiyvH-iBBg",
        "colab_type": "code",
        "colab": {
          "base_uri": "https://localhost:8080/",
          "height": 102
        },
        "outputId": "33ba8122-24de-422c-c512-912e1113f531"
      },
      "source": [
        "\n",
        "ws[1].examples()"
      ],
      "execution_count": 16,
      "outputs": [
        {
          "output_type": "execute_result",
          "data": {
            "text/plain": [
              "['it is not regarded as one of his more memorable works',\n",
              " 'the symphony was hailed as an ingenious work',\n",
              " 'he was indebted to the pioneering work of John Dewey',\n",
              " 'the work of an active imagination',\n",
              " 'erosion is the work of wind or water over time']"
            ]
          },
          "metadata": {
            "tags": []
          },
          "execution_count": 16
        }
      ]
    },
    {
      "cell_type": "code",
      "metadata": {
        "id": "8GL_FFhriGLJ",
        "colab_type": "code",
        "colab": {
          "base_uri": "https://localhost:8080/",
          "height": 714
        },
        "outputId": "8def6a3b-e0e9-42e3-9bca-41df3641a71f"
      },
      "source": [
        "# exploring all the books\n",
        "msg=input(\"enter your keyword you want to know about\")\n",
        "for i in wordnet.synsets(msg):      # this explore all the books according standard univ\n",
        "  print(\"_____________\")\n",
        "  print(i.definition())\n",
        "  print(\"_________\")\n",
        "  print(i.examples())\n",
        "  time.sleep(2)"
      ],
      "execution_count": 21,
      "outputs": [
        {
          "output_type": "stream",
          "text": [
            "enter your keyword you want to know aboutlove\n",
            "_____________\n",
            "a strong positive emotion of regard and affection\n",
            "_________\n",
            "['his love for his work', 'children need a lot of love']\n",
            "_____________\n",
            "any object of warm affection or devotion; \n",
            "_________\n",
            "['the theater was her first love', 'he has a passion for cock fighting']\n",
            "_____________\n",
            "a beloved person; used as terms of endearment\n",
            "_________\n",
            "[]\n",
            "_____________\n",
            "a deep feeling of sexual desire and attraction\n",
            "_________\n",
            "['their love left them indifferent to their surroundings', 'she was his first love']\n",
            "_____________\n",
            "a score of zero in tennis or squash\n",
            "_________\n",
            "['it was 40 love']\n",
            "_____________\n",
            "sexual activities (often including sexual intercourse) between two people\n",
            "_________\n",
            "['his lovemaking disgusted her', \"he hadn't had any love in months\", 'he has a very complicated love life']\n",
            "_____________\n",
            "have a great affection or liking for\n",
            "_________\n",
            "['I love French food', 'She loves her boss and works hard for him']\n",
            "_____________\n",
            "get pleasure from\n",
            "_________\n",
            "['I love cooking']\n",
            "_____________\n",
            "be enamored or in love with\n",
            "_________\n",
            "['She loves her husband deeply']\n",
            "_____________\n",
            "have sexual intercourse with\n",
            "_________\n",
            "['This student sleeps with everyone in her dorm', 'Adam knew Eve', 'Were you ever intimate with this man?']\n"
          ],
          "name": "stdout"
        }
      ]
    },
    {
      "cell_type": "code",
      "metadata": {
        "id": "XQHD4_ufi-xV",
        "colab_type": "code",
        "colab": {}
      },
      "source": [
        ""
      ],
      "execution_count": 0,
      "outputs": []
    }
  ]
}