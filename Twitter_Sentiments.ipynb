{
  "nbformat": 4,
  "nbformat_minor": 0,
  "metadata": {
    "colab": {
      "name": "Twitter_Sentiments.ipynb",
      "version": "0.3.2",
      "provenance": [],
      "collapsed_sections": [],
      "include_colab_link": true
    },
    "kernelspec": {
      "name": "python3",
      "display_name": "Python 3"
    }
  },
  "cells": [
    {
      "cell_type": "markdown",
      "metadata": {
        "id": "view-in-github",
        "colab_type": "text"
      },
      "source": [
        "<a href=\"https://colab.research.google.com/github/mukulsingh94868/ML-project/blob/supervisedML/Twitter_Sentiments.ipynb\" target=\"_parent\"><img src=\"https://colab.research.google.com/assets/colab-badge.svg\" alt=\"Open In Colab\"/></a>"
      ]
    },
    {
      "cell_type": "code",
      "metadata": {
        "id": "KYhUv2cXKMLj",
        "colab_type": "code",
        "colab": {}
      },
      "source": [
        "# sudo pip3 install tweepy\n",
        "import tweepy\n",
        "import matplotlib.pyplot as plt\n",
        "import time\n",
        "from textblob  import TextBlob"
      ],
      "execution_count": 0,
      "outputs": []
    },
    {
      "cell_type": "code",
      "metadata": {
        "id": "2eu6aKXpLZrQ",
        "colab_type": "code",
        "colab": {}
      },
      "source": [
        "# all 4 authentication keys to access twitter API\n",
        "# to connect to OAth handler or jump server/ reverse proxy server \n",
        "consumer_key='veGpoEXLRWsF0OeQr5PfI5T1r'\n",
        "consumer_sec='7W8u1RGTUMyMGIjsdVzWzfKtEml5e0vGKDyjEYM8iW9JJpTtHz'\n",
        "# drom proxy server we need to connect to web server of twitter \n",
        "access_token='992649249446916096-rwjnWPCAObDXKafV8P1P9WJPWzxj1sg'\n",
        "access_sec=''"
      ],
      "execution_count": 0,
      "outputs": []
    },
    {
      "cell_type": "code",
      "metadata": {
        "id": "kcM5vIknOyQU",
        "colab_type": "code",
        "colab": {}
      },
      "source": [
        "# tweepy explore..\n",
        "# connecting to jump server of twitter\n",
        "auth=tweepy.OAuthHandler(consumer_key,consumer_sec)"
      ],
      "execution_count": 0,
      "outputs": []
    },
    {
      "cell_type": "code",
      "metadata": {
        "id": "yBYJlrVuPCzN",
        "colab_type": "code",
        "colab": {}
      },
      "source": [
        "# now we can connect from jump server to web server of twitter\n",
        "auth.set_access_token(access_token,access_sec)"
      ],
      "execution_count": 0,
      "outputs": []
    },
    {
      "cell_type": "code",
      "metadata": {
        "id": "OuA7Jqu8PO-g",
        "colab_type": "code",
        "colab": {}
      },
      "source": [
        "# now we can connect to API storage server of twitter\n",
        "api_connect=tweepy.API(auth)"
      ],
      "execution_count": 0,
      "outputs": []
    },
    {
      "cell_type": "code",
      "metadata": {
        "id": "taMqGOARPcNU",
        "colab_type": "code",
        "colab": {}
      },
      "source": [
        "# now you can search any topic in twitter\n",
        "tweet_data=api_connect.search('indian cricket',count=30)"
      ],
      "execution_count": 0,
      "outputs": []
    },
    {
      "cell_type": "code",
      "metadata": {
        "id": "X64WtbVZPp5I",
        "colab_type": "code",
        "colab": {
          "base_uri": "https://localhost:8080/",
          "height": 129
        },
        "outputId": "664bbbfe-bb9e-4720-8e41-c5b36e8b269c"
      },
      "source": [
        "pos=0\n",
        "neg=0\n",
        "neu=0\n",
        "# printing line by line\n",
        "for tweet in tweet_data:\n",
        " # print(tweet.text)\n",
        "    analysis=TextBlob(tweet.text)    # here it will apply NLP\n",
        "    print(analysis.sentiment)\n",
        "# now checking polarity inly\n",
        "    if analysis.sentiment.polarity > 0:\n",
        "       print(\"positive\")\n",
        "       pos=pos+1\n",
        "    elif analysis.sentiment.polarity == 0:\n",
        "       print(\"Neutral\")\n",
        "       neu=neu+1\n",
        "    else :\n",
        "       print(\"negative\")\n",
        "       neg=neg+1\n",
        "# ploting graph\n",
        "plt.xlabel(\"tags\")\n",
        "plt.ylabel(\"polarity\")\n",
        "plt.bar(['pos','neg','neu'],[pos,neg,neu])\n",
        "plt.pie([pos,neg,neu],labels=[\"pos\",\"neg\",\"neu\"],autopct=%1.1f%%)"
      ],
      "execution_count": 35,
      "outputs": [
        {
          "output_type": "error",
          "ename": "SyntaxError",
          "evalue": "ignored",
          "traceback": [
            "\u001b[0;36m  File \u001b[0;32m\"<ipython-input-35-0a2d2ff73cc7>\"\u001b[0;36m, line \u001b[0;32m23\u001b[0m\n\u001b[0;31m    plt.pie([pos,neg,neu],labels=[\"pos\",\"neg\",\"neu\"],autopct=%1.1f%%)\u001b[0m\n\u001b[0m                                                             ^\u001b[0m\n\u001b[0;31mSyntaxError\u001b[0m\u001b[0;31m:\u001b[0m invalid syntax\n"
          ]
        }
      ]
    },
    {
      "cell_type": "code",
      "metadata": {
        "id": "V6HKP9T9QPvb",
        "colab_type": "code",
        "colab": {}
      },
      "source": [
        ""
      ],
      "execution_count": 0,
      "outputs": []
    }
  ]
}