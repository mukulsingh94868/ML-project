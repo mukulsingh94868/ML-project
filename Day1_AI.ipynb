{
  "nbformat": 4,
  "nbformat_minor": 0,
  "metadata": {
    "colab": {
      "name": "Day1 AI.ipynb",
      "provenance": [],
      "authorship_tag": "ABX9TyOdLKhEPibergV2jiVvHKtk",
      "include_colab_link": true
    },
    "kernelspec": {
      "name": "python3",
      "display_name": "Python 3"
    }
  },
  "cells": [
    {
      "cell_type": "markdown",
      "metadata": {
        "id": "view-in-github",
        "colab_type": "text"
      },
      "source": [
        "<a href=\"https://colab.research.google.com/github/mukulsingh94868/ML-project/blob/data_processing/Day1_AI.ipynb\" target=\"_parent\"><img src=\"https://colab.research.google.com/assets/colab-badge.svg\" alt=\"Open In Colab\"/></a>"
      ]
    },
    {
      "cell_type": "code",
      "metadata": {
        "id": "rzRmwu0YHDoL",
        "colab_type": "code",
        "colab": {
          "base_uri": "https://localhost:8080/",
          "height": 153
        },
        "outputId": "e7cf9eea-7cd1-4857-f0cf-8595bd221e19"
      },
      "source": [
        "!cal"
      ],
      "execution_count": 1,
      "outputs": [
        {
          "output_type": "stream",
          "text": [
            "     March 2020       \n",
            "Su Mo Tu We Th Fr Sa  \n",
            " 1  2  3  4  5  6  7  \n",
            " 8  9 10 11 12 13 14  \n",
            "15 16 17 18 19 20 21  \n",
            "22 23 24 25 \u001b[7m26\u001b[m 27 28  \n",
            "29 30 31              \n",
            "                      \n"
          ],
          "name": "stdout"
        }
      ]
    },
    {
      "cell_type": "code",
      "metadata": {
        "id": "IeV8UI79Hou1",
        "colab_type": "code",
        "colab": {
          "base_uri": "https://localhost:8080/",
          "height": 51
        },
        "outputId": "45b46876-56a4-4f54-8c7f-20979d3fc95f"
      },
      "source": [
        "!cat  /etc/issue"
      ],
      "execution_count": 2,
      "outputs": [
        {
          "output_type": "stream",
          "text": [
            "Ubuntu 18.04.3 LTS \\n \\l\n",
            "\n"
          ],
          "name": "stdout"
        }
      ]
    },
    {
      "cell_type": "code",
      "metadata": {
        "id": "oj50qDo5HyEE",
        "colab_type": "code",
        "colab": {
          "base_uri": "https://localhost:8080/",
          "height": 68
        },
        "outputId": "24fb2161-9967-4e1e-d6a0-296cca7fc1e4"
      },
      "source": [
        "!free  -m"
      ],
      "execution_count": 3,
      "outputs": [
        {
          "output_type": "stream",
          "text": [
            "              total        used        free      shared  buff/cache   available\n",
            "Mem:          13022         528       10334           0        2159       12216\n",
            "Swap:             0           0           0\n"
          ],
          "name": "stdout"
        }
      ]
    },
    {
      "cell_type": "code",
      "metadata": {
        "id": "Bs6S-EmAH6eR",
        "colab_type": "code",
        "colab": {
          "base_uri": "https://localhost:8080/",
          "height": 34
        },
        "outputId": "c923a5f9-5ea9-446b-af6c-f919b250dbb2"
      },
      "source": [
        "print(\"Hello world\")"
      ],
      "execution_count": 4,
      "outputs": [
        {
          "output_type": "stream",
          "text": [
            "Hello world\n"
          ],
          "name": "stdout"
        }
      ]
    },
    {
      "cell_type": "code",
      "metadata": {
        "id": "Wkq_DanOIx1p",
        "colab_type": "code",
        "colab": {
          "base_uri": "https://localhost:8080/",
          "height": 173
        },
        "outputId": "fc4821a4-f73c-4991-e4a9-7cf2146bedd4"
      },
      "source": [
        "!pip install matplotlib"
      ],
      "execution_count": 5,
      "outputs": [
        {
          "output_type": "stream",
          "text": [
            "Requirement already satisfied: matplotlib in /usr/local/lib/python3.6/dist-packages (3.2.1)\n",
            "Requirement already satisfied: kiwisolver>=1.0.1 in /usr/local/lib/python3.6/dist-packages (from matplotlib) (1.1.0)\n",
            "Requirement already satisfied: python-dateutil>=2.1 in /usr/local/lib/python3.6/dist-packages (from matplotlib) (2.8.1)\n",
            "Requirement already satisfied: pyparsing!=2.0.4,!=2.1.2,!=2.1.6,>=2.0.1 in /usr/local/lib/python3.6/dist-packages (from matplotlib) (2.4.6)\n",
            "Requirement already satisfied: cycler>=0.10 in /usr/local/lib/python3.6/dist-packages (from matplotlib) (0.10.0)\n",
            "Requirement already satisfied: numpy>=1.11 in /usr/local/lib/python3.6/dist-packages (from matplotlib) (1.18.2)\n",
            "Requirement already satisfied: setuptools in /usr/local/lib/python3.6/dist-packages (from kiwisolver>=1.0.1->matplotlib) (46.0.0)\n",
            "Requirement already satisfied: six>=1.5 in /usr/local/lib/python3.6/dist-packages (from python-dateutil>=2.1->matplotlib) (1.12.0)\n"
          ],
          "name": "stdout"
        }
      ]
    },
    {
      "cell_type": "code",
      "metadata": {
        "id": "8qqVeAMJKMok",
        "colab_type": "code",
        "colab": {}
      },
      "source": [
        "# loading matplotlib library\n",
        "import matplotlib.pyplot as plt\n"
      ],
      "execution_count": 0,
      "outputs": []
    },
    {
      "cell_type": "code",
      "metadata": {
        "id": "0TZP__8ILDnK",
        "colab_type": "code",
        "colab": {
          "base_uri": "https://localhost:8080/",
          "height": 279
        },
        "outputId": "f820b1ce-f825-4729-8c71-d122615dfed1"
      },
      "source": [
        "x=[2,9,3,7]\n",
        "y=[7,15,5,9] \n",
        "\n",
        "plt.xlabel(\"Distance\")   # x axis\n",
        "plt.ylabel(\"Time\")   # y axis\n",
        "plt.plot(x,y,label='railway track')   # this will draw a line\n",
        "plt.scatter(x,y,s=200,label='railway station',marker='*',color='red') # to plot dots\n",
        "plt.bar(x,y,label='height of railway station') # to draw bar charts\n",
        "plt.grid(color='green')    # this will draw a grid\n",
        "plt.legend()  # it will show label in the grid\n",
        "plt.show()    # it will draw the graph"
      ],
      "execution_count": 27,
      "outputs": [
        {
          "output_type": "display_data",
          "data": {
            "image/png": "[encoded data removed]",
            "text/plain": [
              "<Figure size 432x288 with 1 Axes>"
            ]
          },
          "metadata": {
            "tags": []
          }
        }
      ]
    },
    {
      "cell_type": "code",
      "metadata": {
        "id": "vz4MMDjtLfWL",
        "colab_type": "code",
        "colab": {
          "base_uri": "https://localhost:8080/",
          "height": 262
        },
        "outputId": "91711b2f-2f63-4552-85bb-63dc0e5acaaa"
      },
      "source": [
        "# this will be another example of cricket data visualization\n",
        "players=[\"dhini\",\"virat\",\"rohit\",\"sir jad\"]\n",
        "scores=[120,140,180,89]\n",
        "\n",
        "# now plotting it\n",
        "plt.xlabel(\"players\")\n",
        "plt.ylabel(\"scores\")\n",
        "#plt.bar(players,scores,label=\"2020 score of indian cricket team\")\n",
        "plt.pie(scores,labels=players,explode=(0.2,0,0,0),shadow=True,autopct='%1.1ff%%')\n",
        "#plt.grid(color='green')\n",
        "plt.legend()\n",
        "plt.show()"
      ],
      "execution_count": 44,
      "outputs": [
        {
          "output_type": "display_data",
          "data": {
            "image/png": "[encoded data removed]",
            "text/plain": [
              "<Figure size 432x288 with 1 Axes>"
            ]
          },
          "metadata": {
            "tags": []
          }
        }
      ]
    },
    {
      "cell_type": "code",
      "metadata": {
        "id": "D0FJDpl1QVNs",
        "colab_type": "code",
        "colab": {}
      },
      "source": [
        ""
      ],
      "execution_count": 0,
      "outputs": []
    }
  ]
}