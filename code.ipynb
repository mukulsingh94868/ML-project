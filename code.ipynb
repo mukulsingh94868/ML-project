{
  "nbformat": 4,
  "nbformat_minor": 0,
  "metadata": {
    "colab": {
      "name": "code.ipynb",
      "provenance": [],
      "authorship_tag": "ABX9TyPdDkaqK4pKsogQ+LnieJUS",
      "include_colab_link": true
    },
    "kernelspec": {
      "name": "python3",
      "display_name": "Python 3"
    }
  },
  "cells": [
    {
      "cell_type": "markdown",
      "metadata": {
        "id": "view-in-github",
        "colab_type": "text"
      },
      "source": [
        "<a href=\"https://colab.research.google.com/github/mukulsingh94868/ML-project/blob/supervisedML/code.ipynb\" target=\"_parent\"><img src=\"https://colab.research.google.com/assets/colab-badge.svg\" alt=\"Open In Colab\"/></a>"
      ]
    },
    {
      "cell_type": "code",
      "metadata": {
        "id": "0nMhPl5UVQSG",
        "colab_type": "code",
        "outputId": "056109b4-21b5-482b-d49b-73b06959fccb",
        "colab": {
          "base_uri": "https://localhost:8080/",
          "height": 34
        }
      },
      "source": [
        "import numpy as np\n",
        "import matplotlib.pyplot as plt\n",
        "from sklearn import metrics\n",
        "from sklearn import datasets\n",
        "from sklearn.neighbors import KNeighborsClassifier\n",
        "from sklearn.preprocessing import StandardScaler\n",
        "from sklearn.model_selection import train_test_split\n",
        "\n",
        "wine = datasets.load_wine()\n",
        "\n",
        "x_train,x_test,y_train,y_test = train_test_split(wine.data,wine.target,test_size=0.2)\n",
        "sc = StandardScaler()\n",
        "# print(x_test.shape)\n",
        "x_train_transform = sc.fit_transform(x_train)\n",
        "x_test_transform = sc.transform(x_test)\n",
        "classifier = KNeighborsClassifier(n_neighbors=7,metric='euclidean')\n",
        "classifier.fit(x_train_transform,y_train)\n",
        "\n",
        "y_preds = classifier.predict(x_test_transform)\n",
        "print('Accuracy:',metrics.accuracy_score(y_test,y_preds))\n",
        "# plt.plot(x_train_transform[:!],marker = '0')"
      ],
      "execution_count": 0,
      "outputs": [
        {
          "output_type": "stream",
          "text": [
            "Accuracy: 0.9166666666666666\n"
          ],
          "name": "stdout"
        }
      ]
    },
    {
      "cell_type": "code",
      "metadata": {
        "id": "KhmdfNI8WJr5",
        "colab_type": "code",
        "colab": {}
      },
      "source": [
        ""
      ],
      "execution_count": 0,
      "outputs": []
    }
  ]
}